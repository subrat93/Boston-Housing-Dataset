{
 "cells": [
  {
   "cell_type": "code",
   "execution_count": 113,
   "metadata": {},
   "outputs": [],
   "source": [
    "import pandas as pd\n",
    "import numpy as np\n",
    "import matplotlib.pyplot as plt\n",
    "import seaborn as sns\n",
    "import scipy.stats as stats\n",
    "from scipy.stats import norm\n",
    "\n",
    "from sklearn.model_selection import train_test_split\n",
    "from sklearn.model_selection import cross_val_score, ShuffleSplit\n",
    "from sklearn.metrics import mean_squared_error\n",
    "from sklearn.metrics import mean_absolute_error\n",
    "from sklearn.metrics import r2_score\n",
    "from sklearn import svm\n",
    "from sklearn.neighbors import KNeighborsRegressor\n",
    "from sklearn.preprocessing import StandardScaler\n",
    "from sklearn.preprocessing import MinMaxScaler\n",
    "from sklearn.preprocessing import RobustScaler\n",
    "\n",
    "from xgboost import XGBRegressor\n",
    "from xgboost import DMatrix\n",
    "from xgboost import cv\n",
    "from xgboost import plot_importance\n",
    "\n",
    "import warnings\n",
    "warnings.filterwarnings(\"ignore\")"
   ]
  },
  {
   "cell_type": "markdown",
   "metadata": {},
   "source": [
    "# Read the data"
   ]
  },
  {
   "cell_type": "code",
   "execution_count": 8,
   "metadata": {},
   "outputs": [
    {
     "data": {
      "text/plain": [
       "(506, 14)"
      ]
     },
     "execution_count": 8,
     "metadata": {},
     "output_type": "execute_result"
    }
   ],
   "source": [
    "df = pd.read_csv('housing.csv', delim_whitespace=True, header=None)\n",
    "df.shape"
   ]
  },
  {
   "cell_type": "code",
   "execution_count": 9,
   "metadata": {},
   "outputs": [
    {
     "data": {
      "text/html": [
       "<div>\n",
       "<style scoped>\n",
       "    .dataframe tbody tr th:only-of-type {\n",
       "        vertical-align: middle;\n",
       "    }\n",
       "\n",
       "    .dataframe tbody tr th {\n",
       "        vertical-align: top;\n",
       "    }\n",
       "\n",
       "    .dataframe thead th {\n",
       "        text-align: right;\n",
       "    }\n",
       "</style>\n",
       "<table border=\"1\" class=\"dataframe\">\n",
       "  <thead>\n",
       "    <tr style=\"text-align: right;\">\n",
       "      <th></th>\n",
       "      <th>0</th>\n",
       "      <th>1</th>\n",
       "      <th>2</th>\n",
       "      <th>3</th>\n",
       "      <th>4</th>\n",
       "      <th>5</th>\n",
       "      <th>6</th>\n",
       "      <th>7</th>\n",
       "      <th>8</th>\n",
       "      <th>9</th>\n",
       "      <th>10</th>\n",
       "      <th>11</th>\n",
       "      <th>12</th>\n",
       "      <th>13</th>\n",
       "    </tr>\n",
       "  </thead>\n",
       "  <tbody>\n",
       "    <tr>\n",
       "      <th>0</th>\n",
       "      <td>0.00632</td>\n",
       "      <td>18.0</td>\n",
       "      <td>2.31</td>\n",
       "      <td>0</td>\n",
       "      <td>0.538</td>\n",
       "      <td>6.575</td>\n",
       "      <td>65.2</td>\n",
       "      <td>4.0900</td>\n",
       "      <td>1</td>\n",
       "      <td>296.0</td>\n",
       "      <td>15.3</td>\n",
       "      <td>396.90</td>\n",
       "      <td>4.98</td>\n",
       "      <td>24.0</td>\n",
       "    </tr>\n",
       "    <tr>\n",
       "      <th>1</th>\n",
       "      <td>0.02731</td>\n",
       "      <td>0.0</td>\n",
       "      <td>7.07</td>\n",
       "      <td>0</td>\n",
       "      <td>0.469</td>\n",
       "      <td>6.421</td>\n",
       "      <td>78.9</td>\n",
       "      <td>4.9671</td>\n",
       "      <td>2</td>\n",
       "      <td>242.0</td>\n",
       "      <td>17.8</td>\n",
       "      <td>396.90</td>\n",
       "      <td>9.14</td>\n",
       "      <td>21.6</td>\n",
       "    </tr>\n",
       "    <tr>\n",
       "      <th>2</th>\n",
       "      <td>0.02729</td>\n",
       "      <td>0.0</td>\n",
       "      <td>7.07</td>\n",
       "      <td>0</td>\n",
       "      <td>0.469</td>\n",
       "      <td>7.185</td>\n",
       "      <td>61.1</td>\n",
       "      <td>4.9671</td>\n",
       "      <td>2</td>\n",
       "      <td>242.0</td>\n",
       "      <td>17.8</td>\n",
       "      <td>392.83</td>\n",
       "      <td>4.03</td>\n",
       "      <td>34.7</td>\n",
       "    </tr>\n",
       "    <tr>\n",
       "      <th>3</th>\n",
       "      <td>0.03237</td>\n",
       "      <td>0.0</td>\n",
       "      <td>2.18</td>\n",
       "      <td>0</td>\n",
       "      <td>0.458</td>\n",
       "      <td>6.998</td>\n",
       "      <td>45.8</td>\n",
       "      <td>6.0622</td>\n",
       "      <td>3</td>\n",
       "      <td>222.0</td>\n",
       "      <td>18.7</td>\n",
       "      <td>394.63</td>\n",
       "      <td>2.94</td>\n",
       "      <td>33.4</td>\n",
       "    </tr>\n",
       "    <tr>\n",
       "      <th>4</th>\n",
       "      <td>0.06905</td>\n",
       "      <td>0.0</td>\n",
       "      <td>2.18</td>\n",
       "      <td>0</td>\n",
       "      <td>0.458</td>\n",
       "      <td>7.147</td>\n",
       "      <td>54.2</td>\n",
       "      <td>6.0622</td>\n",
       "      <td>3</td>\n",
       "      <td>222.0</td>\n",
       "      <td>18.7</td>\n",
       "      <td>396.90</td>\n",
       "      <td>5.33</td>\n",
       "      <td>36.2</td>\n",
       "    </tr>\n",
       "  </tbody>\n",
       "</table>\n",
       "</div>"
      ],
      "text/plain": [
       "        0     1     2   3      4      5     6       7   8      9     10  \\\n",
       "0  0.00632  18.0  2.31   0  0.538  6.575  65.2  4.0900   1  296.0  15.3   \n",
       "1  0.02731   0.0  7.07   0  0.469  6.421  78.9  4.9671   2  242.0  17.8   \n",
       "2  0.02729   0.0  7.07   0  0.469  7.185  61.1  4.9671   2  242.0  17.8   \n",
       "3  0.03237   0.0  2.18   0  0.458  6.998  45.8  6.0622   3  222.0  18.7   \n",
       "4  0.06905   0.0  2.18   0  0.458  7.147  54.2  6.0622   3  222.0  18.7   \n",
       "\n",
       "       11    12    13  \n",
       "0  396.90  4.98  24.0  \n",
       "1  396.90  9.14  21.6  \n",
       "2  392.83  4.03  34.7  \n",
       "3  394.63  2.94  33.4  \n",
       "4  396.90  5.33  36.2  "
      ]
     },
     "execution_count": 9,
     "metadata": {},
     "output_type": "execute_result"
    }
   ],
   "source": [
    "df.head()"
   ]
  },
  {
   "cell_type": "markdown",
   "metadata": {},
   "source": [
    "# Add column names"
   ]
  },
  {
   "cell_type": "code",
   "execution_count": 11,
   "metadata": {},
   "outputs": [
    {
     "data": {
      "text/html": [
       "<div>\n",
       "<style scoped>\n",
       "    .dataframe tbody tr th:only-of-type {\n",
       "        vertical-align: middle;\n",
       "    }\n",
       "\n",
       "    .dataframe tbody tr th {\n",
       "        vertical-align: top;\n",
       "    }\n",
       "\n",
       "    .dataframe thead th {\n",
       "        text-align: right;\n",
       "    }\n",
       "</style>\n",
       "<table border=\"1\" class=\"dataframe\">\n",
       "  <thead>\n",
       "    <tr style=\"text-align: right;\">\n",
       "      <th></th>\n",
       "      <th>CRIM</th>\n",
       "      <th>ZN</th>\n",
       "      <th>INDUS</th>\n",
       "      <th>CHAS</th>\n",
       "      <th>NOX</th>\n",
       "      <th>RM</th>\n",
       "      <th>AGE</th>\n",
       "      <th>DIS</th>\n",
       "      <th>RAD</th>\n",
       "      <th>TAX</th>\n",
       "      <th>PTRATIO</th>\n",
       "      <th>B</th>\n",
       "      <th>LSTAT</th>\n",
       "      <th>MEDV</th>\n",
       "    </tr>\n",
       "  </thead>\n",
       "  <tbody>\n",
       "    <tr>\n",
       "      <th>0</th>\n",
       "      <td>0.00632</td>\n",
       "      <td>18.0</td>\n",
       "      <td>2.31</td>\n",
       "      <td>0</td>\n",
       "      <td>0.538</td>\n",
       "      <td>6.575</td>\n",
       "      <td>65.2</td>\n",
       "      <td>4.0900</td>\n",
       "      <td>1</td>\n",
       "      <td>296.0</td>\n",
       "      <td>15.3</td>\n",
       "      <td>396.90</td>\n",
       "      <td>4.98</td>\n",
       "      <td>24.0</td>\n",
       "    </tr>\n",
       "    <tr>\n",
       "      <th>1</th>\n",
       "      <td>0.02731</td>\n",
       "      <td>0.0</td>\n",
       "      <td>7.07</td>\n",
       "      <td>0</td>\n",
       "      <td>0.469</td>\n",
       "      <td>6.421</td>\n",
       "      <td>78.9</td>\n",
       "      <td>4.9671</td>\n",
       "      <td>2</td>\n",
       "      <td>242.0</td>\n",
       "      <td>17.8</td>\n",
       "      <td>396.90</td>\n",
       "      <td>9.14</td>\n",
       "      <td>21.6</td>\n",
       "    </tr>\n",
       "    <tr>\n",
       "      <th>2</th>\n",
       "      <td>0.02729</td>\n",
       "      <td>0.0</td>\n",
       "      <td>7.07</td>\n",
       "      <td>0</td>\n",
       "      <td>0.469</td>\n",
       "      <td>7.185</td>\n",
       "      <td>61.1</td>\n",
       "      <td>4.9671</td>\n",
       "      <td>2</td>\n",
       "      <td>242.0</td>\n",
       "      <td>17.8</td>\n",
       "      <td>392.83</td>\n",
       "      <td>4.03</td>\n",
       "      <td>34.7</td>\n",
       "    </tr>\n",
       "    <tr>\n",
       "      <th>3</th>\n",
       "      <td>0.03237</td>\n",
       "      <td>0.0</td>\n",
       "      <td>2.18</td>\n",
       "      <td>0</td>\n",
       "      <td>0.458</td>\n",
       "      <td>6.998</td>\n",
       "      <td>45.8</td>\n",
       "      <td>6.0622</td>\n",
       "      <td>3</td>\n",
       "      <td>222.0</td>\n",
       "      <td>18.7</td>\n",
       "      <td>394.63</td>\n",
       "      <td>2.94</td>\n",
       "      <td>33.4</td>\n",
       "    </tr>\n",
       "    <tr>\n",
       "      <th>4</th>\n",
       "      <td>0.06905</td>\n",
       "      <td>0.0</td>\n",
       "      <td>2.18</td>\n",
       "      <td>0</td>\n",
       "      <td>0.458</td>\n",
       "      <td>7.147</td>\n",
       "      <td>54.2</td>\n",
       "      <td>6.0622</td>\n",
       "      <td>3</td>\n",
       "      <td>222.0</td>\n",
       "      <td>18.7</td>\n",
       "      <td>396.90</td>\n",
       "      <td>5.33</td>\n",
       "      <td>36.2</td>\n",
       "    </tr>\n",
       "  </tbody>\n",
       "</table>\n",
       "</div>"
      ],
      "text/plain": [
       "      CRIM    ZN  INDUS  CHAS    NOX     RM   AGE     DIS  RAD    TAX  \\\n",
       "0  0.00632  18.0   2.31     0  0.538  6.575  65.2  4.0900    1  296.0   \n",
       "1  0.02731   0.0   7.07     0  0.469  6.421  78.9  4.9671    2  242.0   \n",
       "2  0.02729   0.0   7.07     0  0.469  7.185  61.1  4.9671    2  242.0   \n",
       "3  0.03237   0.0   2.18     0  0.458  6.998  45.8  6.0622    3  222.0   \n",
       "4  0.06905   0.0   2.18     0  0.458  7.147  54.2  6.0622    3  222.0   \n",
       "\n",
       "   PTRATIO       B  LSTAT  MEDV  \n",
       "0     15.3  396.90   4.98  24.0  \n",
       "1     17.8  396.90   9.14  21.6  \n",
       "2     17.8  392.83   4.03  34.7  \n",
       "3     18.7  394.63   2.94  33.4  \n",
       "4     18.7  396.90   5.33  36.2  "
      ]
     },
     "execution_count": 11,
     "metadata": {},
     "output_type": "execute_result"
    }
   ],
   "source": [
    "df.columns = ['CRIM', 'ZN', 'INDUS', 'CHAS', 'NOX', 'RM', 'AGE', 'DIS', 'RAD', 'TAX', 'PTRATIO', 'B', 'LSTAT', 'MEDV']\n",
    "df.head()"
   ]
  },
  {
   "cell_type": "markdown",
   "metadata": {},
   "source": [
    "# Univariate analysis"
   ]
  },
  {
   "cell_type": "code",
   "execution_count": 32,
   "metadata": {},
   "outputs": [],
   "source": [
    "cols = df.columns"
   ]
  },
  {
   "cell_type": "code",
   "execution_count": 18,
   "metadata": {},
   "outputs": [
    {
     "data": {
      "text/plain": [
       "Text(0.5, 1.0, '')"
      ]
     },
     "execution_count": 18,
     "metadata": {},
     "output_type": "execute_result"
    },
    {
     "data": {
      "image/png": "[encoded data removed]",
      "text/plain": [
       "<Figure size 432x288 with 1 Axes>"
      ]
     },
     "metadata": {
      "needs_background": "light"
     },
     "output_type": "display_data"
    }
   ],
   "source": [
    "df.boxplot(column = df.columns[0]);\n",
    "plt.title('')"
   ]
  },
  {
   "cell_type": "code",
   "execution_count": 19,
   "metadata": {},
   "outputs": [
    {
     "data": {
      "text/plain": [
       "Text(0.5, 1.0, '')"
      ]
     },
     "execution_count": 19,
     "metadata": {},
     "output_type": "execute_result"
    },
    {
     "data": {
      "image/png": "[encoded data removed]",
      "text/plain": [
       "<Figure size 432x288 with 1 Axes>"
      ]
     },
     "metadata": {
      "needs_background": "light"
     },
     "output_type": "display_data"
    }
   ],
   "source": [
    "df.boxplot(column = df.columns[1]);\n",
    "plt.title('')"
   ]
  },
  {
   "cell_type": "code",
   "execution_count": 20,
   "metadata": {},
   "outputs": [
    {
     "data": {
      "text/plain": [
       "Text(0.5, 1.0, '')"
      ]
     },
     "execution_count": 20,
     "metadata": {},
     "output_type": "execute_result"
    },
    {
     "data": {
      "image/png": "[encoded data removed]",
      "text/plain": [
       "<Figure size 432x288 with 1 Axes>"
      ]
     },
     "metadata": {
      "needs_background": "light"
     },
     "output_type": "display_data"
    }
   ],
   "source": [
    "df.boxplot(column = df.columns[2]);\n",
    "plt.title('')"
   ]
  },
  {
   "cell_type": "code",
   "execution_count": 22,
   "metadata": {},
   "outputs": [
    {
     "data": {
      "text/plain": [
       "Text(0.5, 1.0, '')"
      ]
     },
     "execution_count": 22,
     "metadata": {},
     "output_type": "execute_result"
    },
    {
     "data": {
      "image/png": "[encoded data removed]",
      "text/plain": [
       "<Figure size 432x288 with 1 Axes>"
      ]
     },
     "metadata": {
      "needs_background": "light"
     },
     "output_type": "display_data"
    }
   ],
   "source": [
    "df.boxplot(column = df.columns[4]);\n",
    "plt.title('')"
   ]
  },
  {
   "cell_type": "code",
   "execution_count": 23,
   "metadata": {},
   "outputs": [
    {
     "data": {
      "text/plain": [
       "Text(0.5, 1.0, '')"
      ]
     },
     "execution_count": 23,
     "metadata": {},
     "output_type": "execute_result"
    },
    {
     "data": {
      "image/png": "[encoded data removed]",
      "text/plain": [
       "<Figure size 432x288 with 1 Axes>"
      ]
     },
     "metadata": {
      "needs_background": "light"
     },
     "output_type": "display_data"
    }
   ],
   "source": [
    "df.boxplot(column = df.columns[5]);\n",
    "plt.title('')"
   ]
  },
  {
   "cell_type": "code",
   "execution_count": 24,
   "metadata": {},
   "outputs": [
    {
     "data": {
      "text/plain": [
       "Text(0.5, 1.0, '')"
      ]
     },
     "execution_count": 24,
     "metadata": {},
     "output_type": "execute_result"
    },
    {
     "data": {
      "image/png": "[encoded data removed]",
      "text/plain": [
       "<Figure size 432x288 with 1 Axes>"
      ]
     },
     "metadata": {
      "needs_background": "light"
     },
     "output_type": "display_data"
    }
   ],
   "source": [
    "df.boxplot(column = df.columns[6]);\n",
    "plt.title('')"
   ]
  },
  {
   "cell_type": "code",
   "execution_count": 25,
   "metadata": {},
   "outputs": [
    {
     "data": {
      "text/plain": [
       "Text(0.5, 1.0, '')"
      ]
     },
     "execution_count": 25,
     "metadata": {},
     "output_type": "execute_result"
    },
    {
     "data": {
      "image/png": "[encoded data removed]",
      "text/plain": [
       "<Figure size 432x288 with 1 Axes>"
      ]
     },
     "metadata": {
      "needs_background": "light"
     },
     "output_type": "display_data"
    }
   ],
   "source": [
    "df.boxplot(column = df.columns[7]);\n",
    "plt.title('')"
   ]
  },
  {
   "cell_type": "code",
   "execution_count": 26,
   "metadata": {},
   "outputs": [
    {
     "data": {
      "text/plain": [
       "Text(0.5, 1.0, '')"
      ]
     },
     "execution_count": 26,
     "metadata": {},
     "output_type": "execute_result"
    },
    {
     "data": {
      "image/png": "[encoded data removed]",
      "text/plain": [
       "<Figure size 432x288 with 1 Axes>"
      ]
     },
     "metadata": {
      "needs_background": "light"
     },
     "output_type": "display_data"
    }
   ],
   "source": [
    "df.boxplot(column = df.columns[8]);\n",
    "plt.title('')"
   ]
  },
  {
   "cell_type": "code",
   "execution_count": 27,
   "metadata": {},
   "outputs": [
    {
     "data": {
      "text/plain": [
       "Text(0.5, 1.0, '')"
      ]
     },
     "execution_count": 27,
     "metadata": {},
     "output_type": "execute_result"
    },
    {
     "data": {
      "image/png": "[encoded data removed]",
      "text/plain": [
       "<Figure size 432x288 with 1 Axes>"
      ]
     },
     "metadata": {
      "needs_background": "light"
     },
     "output_type": "display_data"
    }
   ],
   "source": [
    "df.boxplot(column = df.columns[9]);\n",
    "plt.title('')"
   ]
  },
  {
   "cell_type": "code",
   "execution_count": 28,
   "metadata": {},
   "outputs": [
    {
     "data": {
      "text/plain": [
       "Text(0.5, 1.0, '')"
      ]
     },
     "execution_count": 28,
     "metadata": {},
     "output_type": "execute_result"
    },
    {
     "data": {
      "image/png": "[encoded data removed]",
      "text/plain": [
       "<Figure size 432x288 with 1 Axes>"
      ]
     },
     "metadata": {
      "needs_background": "light"
     },
     "output_type": "display_data"
    }
   ],
   "source": [
    "df.boxplot(column = df.columns[10]);\n",
    "plt.title('')"
   ]
  },
  {
   "cell_type": "code",
   "execution_count": 29,
   "metadata": {},
   "outputs": [
    {
     "data": {
      "text/plain": [
       "Text(0.5, 1.0, '')"
      ]
     },
     "execution_count": 29,
     "metadata": {},
     "output_type": "execute_result"
    },
    {
     "data": {
      "image/png": "[encoded data removed]",
      "text/plain": [
       "<Figure size 432x288 with 1 Axes>"
      ]
     },
     "metadata": {
      "needs_background": "light"
     },
     "output_type": "display_data"
    }
   ],
   "source": [
    "df.boxplot(column = df.columns[11]);\n",
    "plt.title('')"
   ]
  },
  {
   "cell_type": "code",
   "execution_count": 30,
   "metadata": {},
   "outputs": [
    {
     "data": {
      "text/plain": [
       "Text(0.5, 1.0, '')"
      ]
     },
     "execution_count": 30,
     "metadata": {},
     "output_type": "execute_result"
    },
    {
     "data": {
      "image/png": "[encoded data removed]",
      "text/plain": [
       "<Figure size 432x288 with 1 Axes>"
      ]
     },
     "metadata": {
      "needs_background": "light"
     },
     "output_type": "display_data"
    }
   ],
   "source": [
    "df.boxplot(column = df.columns[12]);\n",
    "plt.title('')"
   ]
  },
  {
   "cell_type": "code",
   "execution_count": 31,
   "metadata": {},
   "outputs": [
    {
     "data": {
      "text/plain": [
       "Text(0.5, 1.0, '')"
      ]
     },
     "execution_count": 31,
     "metadata": {},
     "output_type": "execute_result"
    },
    {
     "data": {
      "image/png": "[encoded data removed]",
      "text/plain": [
       "<Figure size 432x288 with 1 Axes>"
      ]
     },
     "metadata": {
      "needs_background": "light"
     },
     "output_type": "display_data"
    }
   ],
   "source": [
    "df.boxplot(column = df.columns[13]);\n",
    "plt.title('')"
   ]
  },
  {
   "cell_type": "code",
   "execution_count": 36,
   "metadata": {},
   "outputs": [
    {
     "data": {
      "image/png": "[encoded data removed]",
      "text/plain": [
       "<Figure size 432x288 with 1 Axes>"
      ]
     },
     "metadata": {
      "needs_background": "light"
     },
     "output_type": "display_data"
    }
   ],
   "source": [
    "df[cols[0]].plot.hist(grid=True, bins=20, rwidth=0.9,\n",
    "                   color='#607c8e')\n",
    "plt.title(cols[0]+' vs Freq.')\n",
    "plt.xlabel(cols[0])\n",
    "plt.ylabel('Frequency')\n",
    "plt.grid(axis='y', alpha=0.75)"
   ]
  },
  {
   "cell_type": "code",
   "execution_count": 37,
   "metadata": {},
   "outputs": [
    {
     "data": {
      "image/png": "[encoded data removed]",
      "text/plain": [
       "<Figure size 432x288 with 1 Axes>"
      ]
     },
     "metadata": {
      "needs_background": "light"
     },
     "output_type": "display_data"
    }
   ],
   "source": [
    "np.log(df[cols[0]]).plot.hist(grid=True, bins=20, rwidth=0.9,\n",
    "                   color='#607c8e')\n",
    "plt.title(cols[0]+' vs Freq.')\n",
    "plt.xlabel(cols[0])\n",
    "plt.ylabel('Frequency')\n",
    "plt.grid(axis='y', alpha=0.75)"
   ]
  },
  {
   "cell_type": "code",
   "execution_count": 38,
   "metadata": {},
   "outputs": [],
   "source": [
    "df[cols[0]] = np.log(df[cols[0]])"
   ]
  },
  {
   "cell_type": "code",
   "execution_count": 40,
   "metadata": {},
   "outputs": [
    {
     "data": {
      "image/png": "[encoded data removed]",
      "text/plain": [
       "<Figure size 432x288 with 1 Axes>"
      ]
     },
     "metadata": {
      "needs_background": "light"
     },
     "output_type": "display_data"
    }
   ],
   "source": [
    "df[cols[1]].plot.hist(grid=True, bins=20, rwidth=0.9,\n",
    "                   color='#607c8e')\n",
    "plt.title(cols[1]+' vs Freq.')\n",
    "plt.xlabel(cols[1])\n",
    "plt.ylabel('Frequency')\n",
    "plt.grid(axis='y', alpha=0.75)"
   ]
  },
  {
   "cell_type": "code",
   "execution_count": 44,
   "metadata": {},
   "outputs": [
    {
     "data": {
      "image/png": "[encoded data removed]",
      "text/plain": [
       "<Figure size 432x288 with 1 Axes>"
      ]
     },
     "metadata": {
      "needs_background": "light"
     },
     "output_type": "display_data"
    }
   ],
   "source": [
    "df[cols[2]].plot.hist(grid=True, bins=20, rwidth=0.9,\n",
    "                   color='#607c8e')\n",
    "plt.title(cols[2]+' vs Freq.')\n",
    "plt.xlabel(cols[2])\n",
    "plt.ylabel('Frequency')\n",
    "plt.grid(axis='y', alpha=0.75)"
   ]
  },
  {
   "cell_type": "code",
   "execution_count": 45,
   "metadata": {},
   "outputs": [
    {
     "data": {
      "image/png": "[encoded data removed]",
      "text/plain": [
       "<Figure size 432x288 with 1 Axes>"
      ]
     },
     "metadata": {
      "needs_background": "light"
     },
     "output_type": "display_data"
    }
   ],
   "source": [
    "np.log(df[cols[2]]).plot.hist(grid=True, bins=20, rwidth=0.9,\n",
    "                   color='#607c8e')\n",
    "plt.title(cols[2]+' vs Freq.')\n",
    "plt.xlabel(cols[2])\n",
    "plt.ylabel('Frequency')\n",
    "plt.grid(axis='y', alpha=0.75)"
   ]
  },
  {
   "cell_type": "code",
   "execution_count": 46,
   "metadata": {},
   "outputs": [],
   "source": [
    "df[cols[2]] = np.log(df[cols[2]])"
   ]
  },
  {
   "cell_type": "code",
   "execution_count": 47,
   "metadata": {},
   "outputs": [
    {
     "data": {
      "image/png": "[encoded data removed]",
      "text/plain": [
       "<Figure size 432x288 with 1 Axes>"
      ]
     },
     "metadata": {
      "needs_background": "light"
     },
     "output_type": "display_data"
    }
   ],
   "source": [
    "df[cols[3]].plot.hist(grid=True, bins=20, rwidth=0.9,\n",
    "                   color='#607c8e')\n",
    "plt.title(cols[3]+' vs Freq.')\n",
    "plt.xlabel(cols[3])\n",
    "plt.ylabel('Frequency')\n",
    "plt.grid(axis='y', alpha=0.75)"
   ]
  },
  {
   "cell_type": "code",
   "execution_count": 48,
   "metadata": {},
   "outputs": [
    {
     "data": {
      "image/png": "[encoded data removed]",
      "text/plain": [
       "<Figure size 432x288 with 1 Axes>"
      ]
     },
     "metadata": {
      "needs_background": "light"
     },
     "output_type": "display_data"
    }
   ],
   "source": [
    "df[cols[4]].plot.hist(grid=True, bins=20, rwidth=0.9,\n",
    "                   color='#607c8e')\n",
    "plt.title(cols[4]+' vs Freq.')\n",
    "plt.xlabel(cols[4])\n",
    "plt.ylabel('Frequency')\n",
    "plt.grid(axis='y', alpha=0.75)"
   ]
  },
  {
   "cell_type": "code",
   "execution_count": 51,
   "metadata": {},
   "outputs": [
    {
     "data": {
      "image/png": "[encoded data removed]",
      "text/plain": [
       "<Figure size 432x288 with 1 Axes>"
      ]
     },
     "metadata": {
      "needs_background": "light"
     },
     "output_type": "display_data"
    }
   ],
   "source": [
    "df[cols[5]].plot.hist(grid=True, bins=20, rwidth=0.9,\n",
    "                   color='#607c8e')\n",
    "plt.title(cols[5]+' vs Freq.')\n",
    "plt.xlabel(cols[5])\n",
    "plt.ylabel('Frequency')\n",
    "plt.grid(axis='y', alpha=0.75)"
   ]
  },
  {
   "cell_type": "code",
   "execution_count": 52,
   "metadata": {},
   "outputs": [
    {
     "data": {
      "image/png": "[encoded data removed]",
      "text/plain": [
       "<Figure size 432x288 with 1 Axes>"
      ]
     },
     "metadata": {
      "needs_background": "light"
     },
     "output_type": "display_data"
    }
   ],
   "source": [
    "df[cols[6]].plot.hist(grid=True, bins=20, rwidth=0.9,\n",
    "                   color='#607c8e')\n",
    "plt.title(cols[6]+' vs Freq.')\n",
    "plt.xlabel(cols[6])\n",
    "plt.ylabel('Frequency')\n",
    "plt.grid(axis='y', alpha=0.75)"
   ]
  },
  {
   "cell_type": "code",
   "execution_count": 54,
   "metadata": {},
   "outputs": [
    {
     "data": {
      "image/png": "[encoded data removed]",
      "text/plain": [
       "<Figure size 432x288 with 1 Axes>"
      ]
     },
     "metadata": {
      "needs_background": "light"
     },
     "output_type": "display_data"
    }
   ],
   "source": [
    "df[cols[7]].plot.hist(grid=True, bins=20, rwidth=0.9,\n",
    "                   color='#607c8e')\n",
    "plt.title(cols[7]+' vs Freq.')\n",
    "plt.xlabel(cols[7])\n",
    "plt.ylabel('Frequency')\n",
    "plt.grid(axis='y', alpha=0.75)"
   ]
  },
  {
   "cell_type": "code",
   "execution_count": 56,
   "metadata": {},
   "outputs": [
    {
     "data": {
      "image/png": "[encoded data removed]",
      "text/plain": [
       "<Figure size 432x288 with 1 Axes>"
      ]
     },
     "metadata": {
      "needs_background": "light"
     },
     "output_type": "display_data"
    }
   ],
   "source": [
    "np.log(df[cols[7]]).plot.hist(grid=True, bins=20, rwidth=0.9,\n",
    "                   color='#607c8e')\n",
    "plt.title(cols[7]+' vs Freq.')\n",
    "plt.xlabel(cols[7])\n",
    "plt.ylabel('Frequency')\n",
    "plt.grid(axis='y', alpha=0.75)"
   ]
  },
  {
   "cell_type": "code",
   "execution_count": 57,
   "metadata": {},
   "outputs": [],
   "source": [
    "df[cols[7]] = np.log(df[cols[7]])"
   ]
  },
  {
   "cell_type": "code",
   "execution_count": 58,
   "metadata": {},
   "outputs": [
    {
     "data": {
      "image/png": "[encoded data removed]",
      "text/plain": [
       "<Figure size 432x288 with 1 Axes>"
      ]
     },
     "metadata": {
      "needs_background": "light"
     },
     "output_type": "display_data"
    }
   ],
   "source": [
    "df[cols[8]].plot.hist(grid=True, bins=20, rwidth=0.9,\n",
    "                   color='#607c8e')\n",
    "plt.title(cols[8]+' vs Freq.')\n",
    "plt.xlabel(cols[8])\n",
    "plt.ylabel('Frequency')\n",
    "plt.grid(axis='y', alpha=0.75)"
   ]
  },
  {
   "cell_type": "code",
   "execution_count": 59,
   "metadata": {},
   "outputs": [
    {
     "data": {
      "image/png": "[encoded data removed]",
      "text/plain": [
       "<Figure size 432x288 with 1 Axes>"
      ]
     },
     "metadata": {
      "needs_background": "light"
     },
     "output_type": "display_data"
    }
   ],
   "source": [
    "np.log(df[cols[8]]).plot.hist(grid=True, bins=20, rwidth=0.9,\n",
    "                   color='#607c8e')\n",
    "plt.title(cols[8]+' vs Freq.')\n",
    "plt.xlabel(cols[8])\n",
    "plt.ylabel('Frequency')\n",
    "plt.grid(axis='y', alpha=0.75)"
   ]
  },
  {
   "cell_type": "code",
   "execution_count": 60,
   "metadata": {},
   "outputs": [],
   "source": [
    "df[cols[8]] = np.log(df[cols[8]])"
   ]
  },
  {
   "cell_type": "code",
   "execution_count": 61,
   "metadata": {},
   "outputs": [
    {
     "data": {
      "image/png": "[encoded data removed]",
      "text/plain": [
       "<Figure size 432x288 with 1 Axes>"
      ]
     },
     "metadata": {
      "needs_background": "light"
     },
     "output_type": "display_data"
    }
   ],
   "source": [
    "df[cols[9]].plot.hist(grid=True, bins=20, rwidth=0.9,\n",
    "                   color='#607c8e')\n",
    "plt.title(cols[9]+' vs Freq.')\n",
    "plt.xlabel(cols[9])\n",
    "plt.ylabel('Frequency')\n",
    "plt.grid(axis='y', alpha=0.75)"
   ]
  },
  {
   "cell_type": "code",
   "execution_count": 62,
   "metadata": {},
   "outputs": [
    {
     "data": {
      "image/png": "[encoded data removed]",
      "text/plain": [
       "<Figure size 432x288 with 1 Axes>"
      ]
     },
     "metadata": {
      "needs_background": "light"
     },
     "output_type": "display_data"
    }
   ],
   "source": [
    "df[cols[10]].plot.hist(grid=True, bins=20, rwidth=0.9,\n",
    "                   color='#607c8e')\n",
    "plt.title(cols[9]+' vs Freq.')\n",
    "plt.xlabel(cols[9])\n",
    "plt.ylabel('Frequency')\n",
    "plt.grid(axis='y', alpha=0.75)"
   ]
  },
  {
   "cell_type": "code",
   "execution_count": 65,
   "metadata": {},
   "outputs": [
    {
     "data": {
      "image/png": "[encoded data removed]",
      "text/plain": [
       "<Figure size 432x288 with 1 Axes>"
      ]
     },
     "metadata": {
      "needs_background": "light"
     },
     "output_type": "display_data"
    }
   ],
   "source": [
    "np.log(df[cols[10]]).plot.hist(grid=True, bins=20, rwidth=0.9,\n",
    "                   color='#607c8e')\n",
    "plt.title(cols[10]+' vs Freq.')\n",
    "plt.xlabel(cols[10])\n",
    "plt.ylabel('Frequency')\n",
    "plt.grid(axis='y', alpha=0.75)"
   ]
  },
  {
   "cell_type": "code",
   "execution_count": 63,
   "metadata": {},
   "outputs": [
    {
     "name": "stdout",
     "output_type": "stream",
     "text": [
      "Skewness: -0.802325\n",
      "Kurtosis: -0.285091\n"
     ]
    }
   ],
   "source": [
    "#skewness and kurtosis\n",
    "print(\"Skewness: %f\" % df[cols[10]].skew())\n",
    "print(\"Kurtosis: %f\" % df[cols[10]].kurt()) "
   ]
  },
  {
   "cell_type": "code",
   "execution_count": 84,
   "metadata": {},
   "outputs": [
    {
     "data": {
      "image/png": "[encoded data removed]",
      "text/plain": [
       "<Figure size 432x288 with 1 Axes>"
      ]
     },
     "metadata": {
      "needs_background": "light"
     },
     "output_type": "display_data"
    },
    {
     "data": {
      "image/png": "[encoded data removed]",
      "text/plain": [
       "<Figure size 432x288 with 1 Axes>"
      ]
     },
     "metadata": {
      "needs_background": "light"
     },
     "output_type": "display_data"
    }
   ],
   "source": [
    "#histogram and normal probability plot\n",
    "sns.distplot(df[cols[10]], fit=norm);\n",
    "fig = plt.figure()\n",
    "res = stats.probplot(df[cols[10]], plot=plt)"
   ]
  },
  {
   "cell_type": "code",
   "execution_count": 85,
   "metadata": {},
   "outputs": [
    {
     "data": {
      "image/png": "[encoded data removed]",
      "text/plain": [
       "<Figure size 432x288 with 1 Axes>"
      ]
     },
     "metadata": {
      "needs_background": "light"
     },
     "output_type": "display_data"
    },
    {
     "data": {
      "image/png": "[encoded data removed]",
      "text/plain": [
       "<Figure size 432x288 with 1 Axes>"
      ]
     },
     "metadata": {
      "needs_background": "light"
     },
     "output_type": "display_data"
    }
   ],
   "source": [
    "#histogram and normal probability plot\n",
    "sns.distplot(df[cols[11]], fit=norm);\n",
    "fig = plt.figure()\n",
    "res = stats.probplot(df[cols[11]], plot=plt)"
   ]
  },
  {
   "cell_type": "code",
   "execution_count": 86,
   "metadata": {},
   "outputs": [
    {
     "name": "stdout",
     "output_type": "stream",
     "text": [
      "Skewness: -2.890374\n",
      "Kurtosis: 7.226818\n"
     ]
    }
   ],
   "source": [
    "#skewness and kurtosis\n",
    "print(\"Skewness: %f\" % df[cols[11]].skew())\n",
    "print(\"Kurtosis: %f\" % df[cols[11]].kurt()) "
   ]
  },
  {
   "cell_type": "code",
   "execution_count": 89,
   "metadata": {},
   "outputs": [
    {
     "data": {
      "image/png": "[encoded data removed]",
      "text/plain": [
       "<Figure size 432x288 with 1 Axes>"
      ]
     },
     "metadata": {
      "needs_background": "light"
     },
     "output_type": "display_data"
    },
    {
     "data": {
      "image/png": "[encoded data removed]",
      "text/plain": [
       "<Figure size 432x288 with 1 Axes>"
      ]
     },
     "metadata": {
      "needs_background": "light"
     },
     "output_type": "display_data"
    }
   ],
   "source": [
    "#histogram and normal probability plot\n",
    "sns.distplot(df[cols[12]], fit=norm);\n",
    "fig = plt.figure()\n",
    "res = stats.probplot(df[cols[12]], plot=plt)"
   ]
  },
  {
   "cell_type": "code",
   "execution_count": 90,
   "metadata": {},
   "outputs": [
    {
     "name": "stdout",
     "output_type": "stream",
     "text": [
      "Skewness: 0.906460\n",
      "Kurtosis: 0.493240\n"
     ]
    }
   ],
   "source": [
    "#skewness and kurtosis\n",
    "print(\"Skewness: %f\" % df[cols[12]].skew())\n",
    "print(\"Kurtosis: %f\" % df[cols[12]].kurt()) "
   ]
  },
  {
   "cell_type": "code",
   "execution_count": 91,
   "metadata": {},
   "outputs": [
    {
     "data": {
      "image/png": "[encoded data removed]",
      "text/plain": [
       "<Figure size 432x288 with 1 Axes>"
      ]
     },
     "metadata": {
      "needs_background": "light"
     },
     "output_type": "display_data"
    },
    {
     "data": {
      "image/png": "[encoded data removed]",
      "text/plain": [
       "<Figure size 432x288 with 1 Axes>"
      ]
     },
     "metadata": {
      "needs_background": "light"
     },
     "output_type": "display_data"
    }
   ],
   "source": [
    "#histogram and normal probability plot\n",
    "sns.distplot(np.log(df[cols[12]]), fit=norm);\n",
    "fig = plt.figure()\n",
    "res = stats.probplot(np.log(df[cols[12]]), plot=plt)"
   ]
  },
  {
   "cell_type": "code",
   "execution_count": 92,
   "metadata": {},
   "outputs": [
    {
     "name": "stdout",
     "output_type": "stream",
     "text": [
      "Skewness: -0.320232\n",
      "Kurtosis: 0.493240\n"
     ]
    }
   ],
   "source": [
    "#skewness and kurtosis\n",
    "print(\"Skewness: %f\" % np.log(df[cols[12]]).skew())\n",
    "print(\"Kurtosis: %f\" % df[cols[12]].kurt()) "
   ]
  },
  {
   "cell_type": "code",
   "execution_count": 93,
   "metadata": {},
   "outputs": [],
   "source": [
    "df[cols[12]] = np.log(df[cols[12]])"
   ]
  },
  {
   "cell_type": "code",
   "execution_count": 94,
   "metadata": {},
   "outputs": [
    {
     "data": {
      "text/plain": [
       "(506, 14)"
      ]
     },
     "execution_count": 94,
     "metadata": {},
     "output_type": "execute_result"
    }
   ],
   "source": [
    "df.shape"
   ]
  },
  {
   "cell_type": "code",
   "execution_count": 95,
   "metadata": {},
   "outputs": [
    {
     "name": "stdout",
     "output_type": "stream",
     "text": [
      "Skewness: 1.108098\n",
      "Kurtosis: 1.495197\n"
     ]
    },
    {
     "data": {
      "image/png": "[encoded data removed]",
      "text/plain": [
       "<Figure size 432x288 with 1 Axes>"
      ]
     },
     "metadata": {
      "needs_background": "light"
     },
     "output_type": "display_data"
    },
    {
     "data": {
      "image/png": "[encoded data removed]",
      "text/plain": [
       "<Figure size 432x288 with 1 Axes>"
      ]
     },
     "metadata": {
      "needs_background": "light"
     },
     "output_type": "display_data"
    }
   ],
   "source": [
    "#histogram and normal probability plot\n",
    "sns.distplot(df[cols[13]], fit=norm);\n",
    "fig = plt.figure()\n",
    "res = stats.probplot(df[cols[13]], plot=plt)\n",
    "#skewness and kurtosis\n",
    "print(\"Skewness: %f\" % df[cols[13]].skew())\n",
    "print(\"Kurtosis: %f\" % df[cols[13]].kurt()) "
   ]
  },
  {
   "cell_type": "code",
   "execution_count": 96,
   "metadata": {},
   "outputs": [
    {
     "name": "stdout",
     "output_type": "stream",
     "text": [
      "Skewness: -0.330321\n",
      "Kurtosis: 0.807390\n"
     ]
    },
    {
     "data": {
      "image/png": "[encoded data removed]",
      "text/plain": [
       "<Figure size 432x288 with 1 Axes>"
      ]
     },
     "metadata": {
      "needs_background": "light"
     },
     "output_type": "display_data"
    },
    {
     "data": {
      "image/png": "[encoded data removed]",
      "text/plain": [
       "<Figure size 432x288 with 1 Axes>"
      ]
     },
     "metadata": {
      "needs_background": "light"
     },
     "output_type": "display_data"
    }
   ],
   "source": [
    "#histogram and normal probability plot\n",
    "sns.distplot(np.log(df[cols[13]]), fit=norm);\n",
    "fig = plt.figure()\n",
    "res = stats.probplot(np.log(df[cols[13]]), plot=plt)\n",
    "#skewness and kurtosis\n",
    "print(\"Skewness: %f\" % np.log(df[cols[13]]).skew())\n",
    "print(\"Kurtosis: %f\" % np.log(df[cols[13]]).kurt()) "
   ]
  },
  {
   "cell_type": "code",
   "execution_count": 97,
   "metadata": {},
   "outputs": [],
   "source": [
    "df[cols[13]] = np.log(df[cols[13]])"
   ]
  },
  {
   "cell_type": "markdown",
   "metadata": {},
   "source": [
    "## Bivariate analysis"
   ]
  },
  {
   "cell_type": "code",
   "execution_count": 99,
   "metadata": {},
   "outputs": [
    {
     "data": {
      "text/html": [
       "<style  type=\"text/css\" >\n",
       "    #T_bd0e901c_e682_11e9_aece_1062e5c8a9d3row0_col0 {\n",
       "            background-color:  #b40426;\n",
       "        }    #T_bd0e901c_e682_11e9_aece_1062e5c8a9d3row0_col1 {\n",
       "            background-color:  #5470de;\n",
       "        }    #T_bd0e901c_e682_11e9_aece_1062e5c8a9d3row0_col2 {\n",
       "            background-color:  #e36c55;\n",
       "        }    #T_bd0e901c_e682_11e9_aece_1062e5c8a9d3row0_col3 {\n",
       "            background-color:  #6485ec;\n",
       "        }    #T_bd0e901c_e682_11e9_aece_1062e5c8a9d3row0_col4 {\n",
       "            background-color:  #da5a49;\n",
       "        }    #T_bd0e901c_e682_11e9_aece_1062e5c8a9d3row0_col5 {\n",
       "            background-color:  #80a3fa;\n",
       "        }    #T_bd0e901c_e682_11e9_aece_1062e5c8a9d3row0_col6 {\n",
       "            background-color:  #ec8165;\n",
       "        }    #T_bd0e901c_e682_11e9_aece_1062e5c8a9d3row0_col7 {\n",
       "            background-color:  #4961d2;\n",
       "        }    #T_bd0e901c_e682_11e9_aece_1062e5c8a9d3row0_col8 {\n",
       "            background-color:  #d75445;\n",
       "        }    #T_bd0e901c_e682_11e9_aece_1062e5c8a9d3row0_col9 {\n",
       "            background-color:  #d85646;\n",
       "        }    #T_bd0e901c_e682_11e9_aece_1062e5c8a9d3row0_col10 {\n",
       "            background-color:  #f1cdba;\n",
       "        }    #T_bd0e901c_e682_11e9_aece_1062e5c8a9d3row0_col11 {\n",
       "            background-color:  #3b4cc0;\n",
       "        }    #T_bd0e901c_e682_11e9_aece_1062e5c8a9d3row0_col12 {\n",
       "            background-color:  #f18f71;\n",
       "        }    #T_bd0e901c_e682_11e9_aece_1062e5c8a9d3row0_col13 {\n",
       "            background-color:  #6687ed;\n",
       "        }    #T_bd0e901c_e682_11e9_aece_1062e5c8a9d3row1_col0 {\n",
       "            background-color:  #6384eb;\n",
       "        }    #T_bd0e901c_e682_11e9_aece_1062e5c8a9d3row1_col1 {\n",
       "            background-color:  #b40426;\n",
       "        }    #T_bd0e901c_e682_11e9_aece_1062e5c8a9d3row1_col2 {\n",
       "            background-color:  #485fd1;\n",
       "        }    #T_bd0e901c_e682_11e9_aece_1062e5c8a9d3row1_col3 {\n",
       "            background-color:  #4f69d9;\n",
       "        }    #T_bd0e901c_e682_11e9_aece_1062e5c8a9d3row1_col4 {\n",
       "            background-color:  #7295f4;\n",
       "        }    #T_bd0e901c_e682_11e9_aece_1062e5c8a9d3row1_col5 {\n",
       "            background-color:  #f0cdbb;\n",
       "        }    #T_bd0e901c_e682_11e9_aece_1062e5c8a9d3row1_col6 {\n",
       "            background-color:  #5f7fe8;\n",
       "        }    #T_bd0e901c_e682_11e9_aece_1062e5c8a9d3row1_col7 {\n",
       "            background-color:  #f18f71;\n",
       "        }    #T_bd0e901c_e682_11e9_aece_1062e5c8a9d3row1_col8 {\n",
       "            background-color:  #6180e9;\n",
       "        }    #T_bd0e901c_e682_11e9_aece_1062e5c8a9d3row1_col9 {\n",
       "            background-color:  #779af7;\n",
       "        }    #T_bd0e901c_e682_11e9_aece_1062e5c8a9d3row1_col10 {\n",
       "            background-color:  #506bda;\n",
       "        }    #T_bd0e901c_e682_11e9_aece_1062e5c8a9d3row1_col11 {\n",
       "            background-color:  #cdd9ec;\n",
       "        }    #T_bd0e901c_e682_11e9_aece_1062e5c8a9d3row1_col12 {\n",
       "            background-color:  #779af7;\n",
       "        }    #T_bd0e901c_e682_11e9_aece_1062e5c8a9d3row1_col13 {\n",
       "            background-color:  #f6bda2;\n",
       "        }    #T_bd0e901c_e682_11e9_aece_1062e5c8a9d3row2_col0 {\n",
       "            background-color:  #e36c55;\n",
       "        }    #T_bd0e901c_e682_11e9_aece_1062e5c8a9d3row2_col1 {\n",
       "            background-color:  #3b4cc0;\n",
       "        }    #T_bd0e901c_e682_11e9_aece_1062e5c8a9d3row2_col2 {\n",
       "            background-color:  #b40426;\n",
       "        }    #T_bd0e901c_e682_11e9_aece_1062e5c8a9d3row2_col3 {\n",
       "            background-color:  #7597f6;\n",
       "        }    #T_bd0e901c_e682_11e9_aece_1062e5c8a9d3row2_col4 {\n",
       "            background-color:  #e36c55;\n",
       "        }    #T_bd0e901c_e682_11e9_aece_1062e5c8a9d3row2_col5 {\n",
       "            background-color:  #6687ed;\n",
       "        }    #T_bd0e901c_e682_11e9_aece_1062e5c8a9d3row2_col6 {\n",
       "            background-color:  #ef886b;\n",
       "        }    #T_bd0e901c_e682_11e9_aece_1062e5c8a9d3row2_col7 {\n",
       "            background-color:  #4b64d5;\n",
       "        }    #T_bd0e901c_e682_11e9_aece_1062e5c8a9d3row2_col8 {\n",
       "            background-color:  #f6a283;\n",
       "        }    #T_bd0e901c_e682_11e9_aece_1062e5c8a9d3row2_col9 {\n",
       "            background-color:  #ef886b;\n",
       "        }    #T_bd0e901c_e682_11e9_aece_1062e5c8a9d3row2_col10 {\n",
       "            background-color:  #f4c6af;\n",
       "        }    #T_bd0e901c_e682_11e9_aece_1062e5c8a9d3row2_col11 {\n",
       "            background-color:  #5977e3;\n",
       "        }    #T_bd0e901c_e682_11e9_aece_1062e5c8a9d3row2_col12 {\n",
       "            background-color:  #ef886b;\n",
       "        }    #T_bd0e901c_e682_11e9_aece_1062e5c8a9d3row2_col13 {\n",
       "            background-color:  #688aef;\n",
       "        }    #T_bd0e901c_e682_11e9_aece_1062e5c8a9d3row3_col0 {\n",
       "            background-color:  #cdd9ec;\n",
       "        }    #T_bd0e901c_e682_11e9_aece_1062e5c8a9d3row3_col1 {\n",
       "            background-color:  #b6cefa;\n",
       "        }    #T_bd0e901c_e682_11e9_aece_1062e5c8a9d3row3_col2 {\n",
       "            background-color:  #d4dbe6;\n",
       "        }    #T_bd0e901c_e682_11e9_aece_1062e5c8a9d3row3_col3 {\n",
       "            background-color:  #b40426;\n",
       "        }    #T_bd0e901c_e682_11e9_aece_1062e5c8a9d3row3_col4 {\n",
       "            background-color:  #dedcdb;\n",
       "        }    #T_bd0e901c_e682_11e9_aece_1062e5c8a9d3row3_col5 {\n",
       "            background-color:  #d1dae9;\n",
       "        }    #T_bd0e901c_e682_11e9_aece_1062e5c8a9d3row3_col6 {\n",
       "            background-color:  #d9dce1;\n",
       "        }    #T_bd0e901c_e682_11e9_aece_1062e5c8a9d3row3_col7 {\n",
       "            background-color:  #c3d5f4;\n",
       "        }    #T_bd0e901c_e682_11e9_aece_1062e5c8a9d3row3_col8 {\n",
       "            background-color:  #b3cdfb;\n",
       "        }    #T_bd0e901c_e682_11e9_aece_1062e5c8a9d3row3_col9 {\n",
       "            background-color:  #b3cdfb;\n",
       "        }    #T_bd0e901c_e682_11e9_aece_1062e5c8a9d3row3_col10 {\n",
       "            background-color:  #8db0fe;\n",
       "        }    #T_bd0e901c_e682_11e9_aece_1062e5c8a9d3row3_col11 {\n",
       "            background-color:  #b2ccfb;\n",
       "        }    #T_bd0e901c_e682_11e9_aece_1062e5c8a9d3row3_col12 {\n",
       "            background-color:  #c4d5f3;\n",
       "        }    #T_bd0e901c_e682_11e9_aece_1062e5c8a9d3row3_col13 {\n",
       "            background-color:  #e6d7cf;\n",
       "        }    #T_bd0e901c_e682_11e9_aece_1062e5c8a9d3row4_col0 {\n",
       "            background-color:  #dd5f4b;\n",
       "        }    #T_bd0e901c_e682_11e9_aece_1062e5c8a9d3row4_col1 {\n",
       "            background-color:  #5470de;\n",
       "        }    #T_bd0e901c_e682_11e9_aece_1062e5c8a9d3row4_col2 {\n",
       "            background-color:  #e57058;\n",
       "        }    #T_bd0e901c_e682_11e9_aece_1062e5c8a9d3row4_col3 {\n",
       "            background-color:  #779af7;\n",
       "        }    #T_bd0e901c_e682_11e9_aece_1062e5c8a9d3row4_col4 {\n",
       "            background-color:  #b40426;\n",
       "        }    #T_bd0e901c_e682_11e9_aece_1062e5c8a9d3row4_col5 {\n",
       "            background-color:  #81a4fb;\n",
       "        }    #T_bd0e901c_e682_11e9_aece_1062e5c8a9d3row4_col6 {\n",
       "            background-color:  #e36c55;\n",
       "        }    #T_bd0e901c_e682_11e9_aece_1062e5c8a9d3row4_col7 {\n",
       "            background-color:  #3b4cc0;\n",
       "        }    #T_bd0e901c_e682_11e9_aece_1062e5c8a9d3row4_col8 {\n",
       "            background-color:  #f59d7e;\n",
       "        }    #T_bd0e901c_e682_11e9_aece_1062e5c8a9d3row4_col9 {\n",
       "            background-color:  #ee8669;\n",
       "        }    #T_bd0e901c_e682_11e9_aece_1062e5c8a9d3row4_col10 {\n",
       "            background-color:  #d2dbe8;\n",
       "        }    #T_bd0e901c_e682_11e9_aece_1062e5c8a9d3row4_col11 {\n",
       "            background-color:  #4f69d9;\n",
       "        }    #T_bd0e901c_e682_11e9_aece_1062e5c8a9d3row4_col12 {\n",
       "            background-color:  #f29274;\n",
       "        }    #T_bd0e901c_e682_11e9_aece_1062e5c8a9d3row4_col13 {\n",
       "            background-color:  #7093f3;\n",
       "        }    #T_bd0e901c_e682_11e9_aece_1062e5c8a9d3row5_col0 {\n",
       "            background-color:  #8db0fe;\n",
       "        }    #T_bd0e901c_e682_11e9_aece_1062e5c8a9d3row5_col1 {\n",
       "            background-color:  #efcebd;\n",
       "        }    #T_bd0e901c_e682_11e9_aece_1062e5c8a9d3row5_col2 {\n",
       "            background-color:  #7295f4;\n",
       "        }    #T_bd0e901c_e682_11e9_aece_1062e5c8a9d3row5_col3 {\n",
       "            background-color:  #779af7;\n",
       "        }    #T_bd0e901c_e682_11e9_aece_1062e5c8a9d3row5_col4 {\n",
       "            background-color:  #9bbcff;\n",
       "        }    #T_bd0e901c_e682_11e9_aece_1062e5c8a9d3row5_col5 {\n",
       "            background-color:  #b40426;\n",
       "        }    #T_bd0e901c_e682_11e9_aece_1062e5c8a9d3row5_col6 {\n",
       "            background-color:  #9fbfff;\n",
       "        }    #T_bd0e901c_e682_11e9_aece_1062e5c8a9d3row5_col7 {\n",
       "            background-color:  #f1ccb8;\n",
       "        }    #T_bd0e901c_e682_11e9_aece_1062e5c8a9d3row5_col8 {\n",
       "            background-color:  #82a6fb;\n",
       "        }    #T_bd0e901c_e682_11e9_aece_1062e5c8a9d3row5_col9 {\n",
       "            background-color:  #7b9ff9;\n",
       "        }    #T_bd0e901c_e682_11e9_aece_1062e5c8a9d3row5_col10 {\n",
       "            background-color:  #5875e1;\n",
       "        }    #T_bd0e901c_e682_11e9_aece_1062e5c8a9d3row5_col11 {\n",
       "            background-color:  #c4d5f3;\n",
       "        }    #T_bd0e901c_e682_11e9_aece_1062e5c8a9d3row5_col12 {\n",
       "            background-color:  #5572df;\n",
       "        }    #T_bd0e901c_e682_11e9_aece_1062e5c8a9d3row5_col13 {\n",
       "            background-color:  #ee8468;\n",
       "        }    #T_bd0e901c_e682_11e9_aece_1062e5c8a9d3row6_col0 {\n",
       "            background-color:  #ed8366;\n",
       "        }    #T_bd0e901c_e682_11e9_aece_1062e5c8a9d3row6_col1 {\n",
       "            background-color:  #4a63d3;\n",
       "        }    #T_bd0e901c_e682_11e9_aece_1062e5c8a9d3row6_col2 {\n",
       "            background-color:  #f08b6e;\n",
       "        }    #T_bd0e901c_e682_11e9_aece_1062e5c8a9d3row6_col3 {\n",
       "            background-color:  #7699f6;\n",
       "        }    #T_bd0e901c_e682_11e9_aece_1062e5c8a9d3row6_col4 {\n",
       "            background-color:  #e36b54;\n",
       "        }    #T_bd0e901c_e682_11e9_aece_1062e5c8a9d3row6_col5 {\n",
       "            background-color:  #8fb1fe;\n",
       "        }    #T_bd0e901c_e682_11e9_aece_1062e5c8a9d3row6_col6 {\n",
       "            background-color:  #b40426;\n",
       "        }    #T_bd0e901c_e682_11e9_aece_1062e5c8a9d3row6_col7 {\n",
       "            background-color:  #4358cb;\n",
       "        }    #T_bd0e901c_e682_11e9_aece_1062e5c8a9d3row6_col8 {\n",
       "            background-color:  #f6bfa6;\n",
       "        }    #T_bd0e901c_e682_11e9_aece_1062e5c8a9d3row6_col9 {\n",
       "            background-color:  #f7af91;\n",
       "        }    #T_bd0e901c_e682_11e9_aece_1062e5c8a9d3row6_col10 {\n",
       "            background-color:  #dfdbd9;\n",
       "        }    #T_bd0e901c_e682_11e9_aece_1062e5c8a9d3row6_col11 {\n",
       "            background-color:  #6687ed;\n",
       "        }    #T_bd0e901c_e682_11e9_aece_1062e5c8a9d3row6_col12 {\n",
       "            background-color:  #f08b6e;\n",
       "        }    #T_bd0e901c_e682_11e9_aece_1062e5c8a9d3row6_col13 {\n",
       "            background-color:  #7b9ff9;\n",
       "        }    #T_bd0e901c_e682_11e9_aece_1062e5c8a9d3row7_col0 {\n",
       "            background-color:  #3b4cc0;\n",
       "        }    #T_bd0e901c_e682_11e9_aece_1062e5c8a9d3row7_col1 {\n",
       "            background-color:  #f4987a;\n",
       "        }    #T_bd0e901c_e682_11e9_aece_1062e5c8a9d3row7_col2 {\n",
       "            background-color:  #3b4cc0;\n",
       "        }    #T_bd0e901c_e682_11e9_aece_1062e5c8a9d3row7_col3 {\n",
       "            background-color:  #4358cb;\n",
       "        }    #T_bd0e901c_e682_11e9_aece_1062e5c8a9d3row7_col4 {\n",
       "            background-color:  #3b4cc0;\n",
       "        }    #T_bd0e901c_e682_11e9_aece_1062e5c8a9d3row7_col5 {\n",
       "            background-color:  #ead5c9;\n",
       "        }    #T_bd0e901c_e682_11e9_aece_1062e5c8a9d3row7_col6 {\n",
       "            background-color:  #3b4cc0;\n",
       "        }    #T_bd0e901c_e682_11e9_aece_1062e5c8a9d3row7_col7 {\n",
       "            background-color:  #b40426;\n",
       "        }    #T_bd0e901c_e682_11e9_aece_1062e5c8a9d3row7_col8 {\n",
       "            background-color:  #3b4cc0;\n",
       "        }    #T_bd0e901c_e682_11e9_aece_1062e5c8a9d3row7_col9 {\n",
       "            background-color:  #3b4cc0;\n",
       "        }    #T_bd0e901c_e682_11e9_aece_1062e5c8a9d3row7_col10 {\n",
       "            background-color:  #7295f4;\n",
       "        }    #T_bd0e901c_e682_11e9_aece_1062e5c8a9d3row7_col11 {\n",
       "            background-color:  #e8d6cc;\n",
       "        }    #T_bd0e901c_e682_11e9_aece_1062e5c8a9d3row7_col12 {\n",
       "            background-color:  #6e90f2;\n",
       "        }    #T_bd0e901c_e682_11e9_aece_1062e5c8a9d3row7_col13 {\n",
       "            background-color:  #f7b599;\n",
       "        }    #T_bd0e901c_e682_11e9_aece_1062e5c8a9d3row8_col0 {\n",
       "            background-color:  #d44e41;\n",
       "        }    #T_bd0e901c_e682_11e9_aece_1062e5c8a9d3row8_col1 {\n",
       "            background-color:  #7699f6;\n",
       "        }    #T_bd0e901c_e682_11e9_aece_1062e5c8a9d3row8_col2 {\n",
       "            background-color:  #f39778;\n",
       "        }    #T_bd0e901c_e682_11e9_aece_1062e5c8a9d3row8_col3 {\n",
       "            background-color:  #5f7fe8;\n",
       "        }    #T_bd0e901c_e682_11e9_aece_1062e5c8a9d3row8_col4 {\n",
       "            background-color:  #f18d6f;\n",
       "        }    #T_bd0e901c_e682_11e9_aece_1062e5c8a9d3row8_col5 {\n",
       "            background-color:  #97b8ff;\n",
       "        }    #T_bd0e901c_e682_11e9_aece_1062e5c8a9d3row8_col6 {\n",
       "            background-color:  #f7b093;\n",
       "        }    #T_bd0e901c_e682_11e9_aece_1062e5c8a9d3row8_col7 {\n",
       "            background-color:  #6c8ff1;\n",
       "        }    #T_bd0e901c_e682_11e9_aece_1062e5c8a9d3row8_col8 {\n",
       "            background-color:  #b40426;\n",
       "        }    #T_bd0e901c_e682_11e9_aece_1062e5c8a9d3row8_col9 {\n",
       "            background-color:  #d44e41;\n",
       "        }    #T_bd0e901c_e682_11e9_aece_1062e5c8a9d3row8_col10 {\n",
       "            background-color:  #f3c8b2;\n",
       "        }    #T_bd0e901c_e682_11e9_aece_1062e5c8a9d3row8_col11 {\n",
       "            background-color:  #485fd1;\n",
       "        }    #T_bd0e901c_e682_11e9_aece_1062e5c8a9d3row8_col12 {\n",
       "            background-color:  #f7af91;\n",
       "        }    #T_bd0e901c_e682_11e9_aece_1062e5c8a9d3row8_col13 {\n",
       "            background-color:  #80a3fa;\n",
       "        }    #T_bd0e901c_e682_11e9_aece_1062e5c8a9d3row9_col0 {\n",
       "            background-color:  #d65244;\n",
       "        }    #T_bd0e901c_e682_11e9_aece_1062e5c8a9d3row9_col1 {\n",
       "            background-color:  #7da0f9;\n",
       "        }    #T_bd0e901c_e682_11e9_aece_1062e5c8a9d3row9_col2 {\n",
       "            background-color:  #ed8366;\n",
       "        }    #T_bd0e901c_e682_11e9_aece_1062e5c8a9d3row9_col3 {\n",
       "            background-color:  #516ddb;\n",
       "        }    #T_bd0e901c_e682_11e9_aece_1062e5c8a9d3row9_col4 {\n",
       "            background-color:  #ea7b60;\n",
       "        }    #T_bd0e901c_e682_11e9_aece_1062e5c8a9d3row9_col5 {\n",
       "            background-color:  #84a7fc;\n",
       "        }    #T_bd0e901c_e682_11e9_aece_1062e5c8a9d3row9_col6 {\n",
       "            background-color:  #f6a586;\n",
       "        }    #T_bd0e901c_e682_11e9_aece_1062e5c8a9d3row9_col7 {\n",
       "            background-color:  #5e7de7;\n",
       "        }    #T_bd0e901c_e682_11e9_aece_1062e5c8a9d3row9_col8 {\n",
       "            background-color:  #d55042;\n",
       "        }    #T_bd0e901c_e682_11e9_aece_1062e5c8a9d3row9_col9 {\n",
       "            background-color:  #b40426;\n",
       "        }    #T_bd0e901c_e682_11e9_aece_1062e5c8a9d3row9_col10 {\n",
       "            background-color:  #f6bfa6;\n",
       "        }    #T_bd0e901c_e682_11e9_aece_1062e5c8a9d3row9_col11 {\n",
       "            background-color:  #4257c9;\n",
       "        }    #T_bd0e901c_e682_11e9_aece_1062e5c8a9d3row9_col12 {\n",
       "            background-color:  #f59f80;\n",
       "        }    #T_bd0e901c_e682_11e9_aece_1062e5c8a9d3row9_col13 {\n",
       "            background-color:  #6788ee;\n",
       "        }    #T_bd0e901c_e682_11e9_aece_1062e5c8a9d3row10_col0 {\n",
       "            background-color:  #f6bda2;\n",
       "        }    #T_bd0e901c_e682_11e9_aece_1062e5c8a9d3row10_col1 {\n",
       "            background-color:  #6c8ff1;\n",
       "        }    #T_bd0e901c_e682_11e9_aece_1062e5c8a9d3row10_col2 {\n",
       "            background-color:  #f7b79b;\n",
       "        }    #T_bd0e901c_e682_11e9_aece_1062e5c8a9d3row10_col3 {\n",
       "            background-color:  #3b4cc0;\n",
       "        }    #T_bd0e901c_e682_11e9_aece_1062e5c8a9d3row10_col4 {\n",
       "            background-color:  #ead4c8;\n",
       "        }    #T_bd0e901c_e682_11e9_aece_1062e5c8a9d3row10_col5 {\n",
       "            background-color:  #7699f6;\n",
       "        }    #T_bd0e901c_e682_11e9_aece_1062e5c8a9d3row10_col6 {\n",
       "            background-color:  #efcebd;\n",
       "        }    #T_bd0e901c_e682_11e9_aece_1062e5c8a9d3row10_col7 {\n",
       "            background-color:  #a6c4fe;\n",
       "        }    #T_bd0e901c_e682_11e9_aece_1062e5c8a9d3row10_col8 {\n",
       "            background-color:  #f4c6af;\n",
       "        }    #T_bd0e901c_e682_11e9_aece_1062e5c8a9d3row10_col9 {\n",
       "            background-color:  #f7b89c;\n",
       "        }    #T_bd0e901c_e682_11e9_aece_1062e5c8a9d3row10_col10 {\n",
       "            background-color:  #b40426;\n",
       "        }    #T_bd0e901c_e682_11e9_aece_1062e5c8a9d3row10_col11 {\n",
       "            background-color:  #7da0f9;\n",
       "        }    #T_bd0e901c_e682_11e9_aece_1062e5c8a9d3row10_col12 {\n",
       "            background-color:  #f7b396;\n",
       "        }    #T_bd0e901c_e682_11e9_aece_1062e5c8a9d3row10_col13 {\n",
       "            background-color:  #7396f5;\n",
       "        }    #T_bd0e901c_e682_11e9_aece_1062e5c8a9d3row11_col0 {\n",
       "            background-color:  #6a8bef;\n",
       "        }    #T_bd0e901c_e682_11e9_aece_1062e5c8a9d3row11_col1 {\n",
       "            background-color:  #dddcdc;\n",
       "        }    #T_bd0e901c_e682_11e9_aece_1062e5c8a9d3row11_col2 {\n",
       "            background-color:  #86a9fc;\n",
       "        }    #T_bd0e901c_e682_11e9_aece_1062e5c8a9d3row11_col3 {\n",
       "            background-color:  #6a8bef;\n",
       "        }    #T_bd0e901c_e682_11e9_aece_1062e5c8a9d3row11_col4 {\n",
       "            background-color:  #8caffe;\n",
       "        }    #T_bd0e901c_e682_11e9_aece_1062e5c8a9d3row11_col5 {\n",
       "            background-color:  #d6dce4;\n",
       "        }    #T_bd0e901c_e682_11e9_aece_1062e5c8a9d3row11_col6 {\n",
       "            background-color:  #98b9ff;\n",
       "        }    #T_bd0e901c_e682_11e9_aece_1062e5c8a9d3row11_col7 {\n",
       "            background-color:  #f5c2aa;\n",
       "        }    #T_bd0e901c_e682_11e9_aece_1062e5c8a9d3row11_col8 {\n",
       "            background-color:  #5470de;\n",
       "        }    #T_bd0e901c_e682_11e9_aece_1062e5c8a9d3row11_col9 {\n",
       "            background-color:  #5d7ce6;\n",
       "        }    #T_bd0e901c_e682_11e9_aece_1062e5c8a9d3row11_col10 {\n",
       "            background-color:  #81a4fb;\n",
       "        }    #T_bd0e901c_e682_11e9_aece_1062e5c8a9d3row11_col11 {\n",
       "            background-color:  #b40426;\n",
       "        }    #T_bd0e901c_e682_11e9_aece_1062e5c8a9d3row11_col12 {\n",
       "            background-color:  #92b4fe;\n",
       "        }    #T_bd0e901c_e682_11e9_aece_1062e5c8a9d3row11_col13 {\n",
       "            background-color:  #f7b599;\n",
       "        }    #T_bd0e901c_e682_11e9_aece_1062e5c8a9d3row12_col0 {\n",
       "            background-color:  #f29274;\n",
       "        }    #T_bd0e901c_e682_11e9_aece_1062e5c8a9d3row12_col1 {\n",
       "            background-color:  #5b7ae5;\n",
       "        }    #T_bd0e901c_e682_11e9_aece_1062e5c8a9d3row12_col2 {\n",
       "            background-color:  #f18d6f;\n",
       "        }    #T_bd0e901c_e682_11e9_aece_1062e5c8a9d3row12_col3 {\n",
       "            background-color:  #465ecf;\n",
       "        }    #T_bd0e901c_e682_11e9_aece_1062e5c8a9d3row12_col4 {\n",
       "            background-color:  #f29274;\n",
       "        }    #T_bd0e901c_e682_11e9_aece_1062e5c8a9d3row12_col5 {\n",
       "            background-color:  #3b4cc0;\n",
       "        }    #T_bd0e901c_e682_11e9_aece_1062e5c8a9d3row12_col6 {\n",
       "            background-color:  #f18d6f;\n",
       "        }    #T_bd0e901c_e682_11e9_aece_1062e5c8a9d3row12_col7 {\n",
       "            background-color:  #6f92f3;\n",
       "        }    #T_bd0e901c_e682_11e9_aece_1062e5c8a9d3row12_col8 {\n",
       "            background-color:  #f5c0a7;\n",
       "        }    #T_bd0e901c_e682_11e9_aece_1062e5c8a9d3row12_col9 {\n",
       "            background-color:  #f7aa8c;\n",
       "        }    #T_bd0e901c_e682_11e9_aece_1062e5c8a9d3row12_col10 {\n",
       "            background-color:  #f3c8b2;\n",
       "        }    #T_bd0e901c_e682_11e9_aece_1062e5c8a9d3row12_col11 {\n",
       "            background-color:  #5673e0;\n",
       "        }    #T_bd0e901c_e682_11e9_aece_1062e5c8a9d3row12_col12 {\n",
       "            background-color:  #b40426;\n",
       "        }    #T_bd0e901c_e682_11e9_aece_1062e5c8a9d3row12_col13 {\n",
       "            background-color:  #3b4cc0;\n",
       "        }    #T_bd0e901c_e682_11e9_aece_1062e5c8a9d3row13_col0 {\n",
       "            background-color:  #5977e3;\n",
       "        }    #T_bd0e901c_e682_11e9_aece_1062e5c8a9d3row13_col1 {\n",
       "            background-color:  #f3c7b1;\n",
       "        }    #T_bd0e901c_e682_11e9_aece_1062e5c8a9d3row13_col2 {\n",
       "            background-color:  #5a78e4;\n",
       "        }    #T_bd0e901c_e682_11e9_aece_1062e5c8a9d3row13_col3 {\n",
       "            background-color:  #8caffe;\n",
       "        }    #T_bd0e901c_e682_11e9_aece_1062e5c8a9d3row13_col4 {\n",
       "            background-color:  #7295f4;\n",
       "        }    #T_bd0e901c_e682_11e9_aece_1062e5c8a9d3row13_col5 {\n",
       "            background-color:  #f18d6f;\n",
       "        }    #T_bd0e901c_e682_11e9_aece_1062e5c8a9d3row13_col6 {\n",
       "            background-color:  #7597f6;\n",
       "        }    #T_bd0e901c_e682_11e9_aece_1062e5c8a9d3row13_col7 {\n",
       "            background-color:  #f7b599;\n",
       "        }    #T_bd0e901c_e682_11e9_aece_1062e5c8a9d3row13_col8 {\n",
       "            background-color:  #4f69d9;\n",
       "        }    #T_bd0e901c_e682_11e9_aece_1062e5c8a9d3row13_col9 {\n",
       "            background-color:  #455cce;\n",
       "        }    #T_bd0e901c_e682_11e9_aece_1062e5c8a9d3row13_col10 {\n",
       "            background-color:  #3b4cc0;\n",
       "        }    #T_bd0e901c_e682_11e9_aece_1062e5c8a9d3row13_col11 {\n",
       "            background-color:  #f1ccb8;\n",
       "        }    #T_bd0e901c_e682_11e9_aece_1062e5c8a9d3row13_col12 {\n",
       "            background-color:  #3b4cc0;\n",
       "        }    #T_bd0e901c_e682_11e9_aece_1062e5c8a9d3row13_col13 {\n",
       "            background-color:  #b40426;\n",
       "        }</style>  \n",
       "<table id=\"T_bd0e901c_e682_11e9_aece_1062e5c8a9d3\" > \n",
       "<thead>    <tr> \n",
       "        <th class=\"blank level0\" ></th> \n",
       "        <th class=\"col_heading level0 col0\" >CRIM</th> \n",
       "        <th class=\"col_heading level0 col1\" >ZN</th> \n",
       "        <th class=\"col_heading level0 col2\" >INDUS</th> \n",
       "        <th class=\"col_heading level0 col3\" >CHAS</th> \n",
       "        <th class=\"col_heading level0 col4\" >NOX</th> \n",
       "        <th class=\"col_heading level0 col5\" >RM</th> \n",
       "        <th class=\"col_heading level0 col6\" >AGE</th> \n",
       "        <th class=\"col_heading level0 col7\" >DIS</th> \n",
       "        <th class=\"col_heading level0 col8\" >RAD</th> \n",
       "        <th class=\"col_heading level0 col9\" >TAX</th> \n",
       "        <th class=\"col_heading level0 col10\" >PTRATIO</th> \n",
       "        <th class=\"col_heading level0 col11\" >B</th> \n",
       "        <th class=\"col_heading level0 col12\" >LSTAT</th> \n",
       "        <th class=\"col_heading level0 col13\" >MEDV</th> \n",
       "    </tr></thead> \n",
       "<tbody>    <tr> \n",
       "        <th id=\"T_bd0e901c_e682_11e9_aece_1062e5c8a9d3level0_row0\" class=\"row_heading level0 row0\" >CRIM</th> \n",
       "        <td id=\"T_bd0e901c_e682_11e9_aece_1062e5c8a9d3row0_col0\" class=\"data row0 col0\" >1</td> \n",
       "        <td id=\"T_bd0e901c_e682_11e9_aece_1062e5c8a9d3row0_col1\" class=\"data row0 col1\" >-0.517091</td> \n",
       "        <td id=\"T_bd0e901c_e682_11e9_aece_1062e5c8a9d3row0_col2\" class=\"data row0 col2\" >0.739553</td> \n",
       "        <td id=\"T_bd0e901c_e682_11e9_aece_1062e5c8a9d3row0_col3\" class=\"data row0 col3\" >0.0284965</td> \n",
       "        <td id=\"T_bd0e901c_e682_11e9_aece_1062e5c8a9d3row0_col4\" class=\"data row0 col4\" >0.788616</td> \n",
       "        <td id=\"T_bd0e901c_e682_11e9_aece_1062e5c8a9d3row0_col5\" class=\"data row0 col5\" >-0.306943</td> \n",
       "        <td id=\"T_bd0e901c_e682_11e9_aece_1062e5c8a9d3row0_col6\" class=\"data row0 col6\" >0.658284</td> \n",
       "        <td id=\"T_bd0e901c_e682_11e9_aece_1062e5c8a9d3row0_col7\" class=\"data row0 col7\" >-0.743926</td> \n",
       "        <td id=\"T_bd0e901c_e682_11e9_aece_1062e5c8a9d3row0_col8\" class=\"data row0 col8\" >0.838943</td> \n",
       "        <td id=\"T_bd0e901c_e682_11e9_aece_1062e5c8a9d3row0_col9\" class=\"data row0 col9\" >0.828234</td> \n",
       "        <td id=\"T_bd0e901c_e682_11e9_aece_1062e5c8a9d3row0_col10\" class=\"data row0 col10\" >0.389554</td> \n",
       "        <td id=\"T_bd0e901c_e682_11e9_aece_1062e5c8a9d3row0_col11\" class=\"data row0 col11\" >-0.478755</td> \n",
       "        <td id=\"T_bd0e901c_e682_11e9_aece_1062e5c8a9d3row0_col12\" class=\"data row0 col12\" >0.591796</td> \n",
       "        <td id=\"T_bd0e901c_e682_11e9_aece_1062e5c8a9d3row0_col13\" class=\"data row0 col13\" >-0.567242</td> \n",
       "    </tr>    <tr> \n",
       "        <th id=\"T_bd0e901c_e682_11e9_aece_1062e5c8a9d3level0_row1\" class=\"row_heading level0 row1\" >ZN</th> \n",
       "        <td id=\"T_bd0e901c_e682_11e9_aece_1062e5c8a9d3row1_col0\" class=\"data row1 col0\" >-0.517091</td> \n",
       "        <td id=\"T_bd0e901c_e682_11e9_aece_1062e5c8a9d3row1_col1\" class=\"data row1 col1\" >1</td> \n",
       "        <td id=\"T_bd0e901c_e682_11e9_aece_1062e5c8a9d3row1_col2\" class=\"data row1 col2\" >-0.655898</td> \n",
       "        <td id=\"T_bd0e901c_e682_11e9_aece_1062e5c8a9d3row1_col3\" class=\"data row1 col3\" >-0.0426967</td> \n",
       "        <td id=\"T_bd0e901c_e682_11e9_aece_1062e5c8a9d3row1_col4\" class=\"data row1 col4\" >-0.516604</td> \n",
       "        <td id=\"T_bd0e901c_e682_11e9_aece_1062e5c8a9d3row1_col5\" class=\"data row1 col5\" >0.311991</td> \n",
       "        <td id=\"T_bd0e901c_e682_11e9_aece_1062e5c8a9d3row1_col6\" class=\"data row1 col6\" >-0.569537</td> \n",
       "        <td id=\"T_bd0e901c_e682_11e9_aece_1062e5c8a9d3row1_col7\" class=\"data row1 col7\" >0.590655</td> \n",
       "        <td id=\"T_bd0e901c_e682_11e9_aece_1062e5c8a9d3row1_col8\" class=\"data row1 col8\" >-0.350643</td> \n",
       "        <td id=\"T_bd0e901c_e682_11e9_aece_1062e5c8a9d3row1_col9\" class=\"data row1 col9\" >-0.314563</td> \n",
       "        <td id=\"T_bd0e901c_e682_11e9_aece_1062e5c8a9d3row1_col10\" class=\"data row1 col10\" >-0.391679</td> \n",
       "        <td id=\"T_bd0e901c_e682_11e9_aece_1062e5c8a9d3row1_col11\" class=\"data row1 col11\" >0.17552</td> \n",
       "        <td id=\"T_bd0e901c_e682_11e9_aece_1062e5c8a9d3row1_col12\" class=\"data row1 col12\" >-0.477706</td> \n",
       "        <td id=\"T_bd0e901c_e682_11e9_aece_1062e5c8a9d3row1_col13\" class=\"data row1 col13\" >0.363344</td> \n",
       "    </tr>    <tr> \n",
       "        <th id=\"T_bd0e901c_e682_11e9_aece_1062e5c8a9d3level0_row2\" class=\"row_heading level0 row2\" >INDUS</th> \n",
       "        <td id=\"T_bd0e901c_e682_11e9_aece_1062e5c8a9d3row2_col0\" class=\"data row2 col0\" >0.739553</td> \n",
       "        <td id=\"T_bd0e901c_e682_11e9_aece_1062e5c8a9d3row2_col1\" class=\"data row2 col1\" >-0.655898</td> \n",
       "        <td id=\"T_bd0e901c_e682_11e9_aece_1062e5c8a9d3row2_col2\" class=\"data row2 col2\" >1</td> \n",
       "        <td id=\"T_bd0e901c_e682_11e9_aece_1062e5c8a9d3row2_col3\" class=\"data row2 col3\" >0.0807278</td> \n",
       "        <td id=\"T_bd0e901c_e682_11e9_aece_1062e5c8a9d3row2_col4\" class=\"data row2 col4\" >0.724931</td> \n",
       "        <td id=\"T_bd0e901c_e682_11e9_aece_1062e5c8a9d3row2_col5\" class=\"data row2 col5\" >-0.431267</td> \n",
       "        <td id=\"T_bd0e901c_e682_11e9_aece_1062e5c8a9d3row2_col6\" class=\"data row2 col6\" >0.625381</td> \n",
       "        <td id=\"T_bd0e901c_e682_11e9_aece_1062e5c8a9d3row2_col7\" class=\"data row2 col7\" >-0.730297</td> \n",
       "        <td id=\"T_bd0e901c_e682_11e9_aece_1062e5c8a9d3row2_col8\" class=\"data row2 col8\" >0.580533</td> \n",
       "        <td id=\"T_bd0e901c_e682_11e9_aece_1062e5c8a9d3row2_col9\" class=\"data row2 col9\" >0.66152</td> \n",
       "        <td id=\"T_bd0e901c_e682_11e9_aece_1062e5c8a9d3row2_col10\" class=\"data row2 col10\" >0.430022</td> \n",
       "        <td id=\"T_bd0e901c_e682_11e9_aece_1062e5c8a9d3row2_col11\" class=\"data row2 col11\" >-0.33105</td> \n",
       "        <td id=\"T_bd0e901c_e682_11e9_aece_1062e5c8a9d3row2_col12\" class=\"data row2 col12\" >0.617578</td> \n",
       "        <td id=\"T_bd0e901c_e682_11e9_aece_1062e5c8a9d3row2_col13\" class=\"data row2 col13\" >-0.553887</td> \n",
       "    </tr>    <tr> \n",
       "        <th id=\"T_bd0e901c_e682_11e9_aece_1062e5c8a9d3level0_row3\" class=\"row_heading level0 row3\" >CHAS</th> \n",
       "        <td id=\"T_bd0e901c_e682_11e9_aece_1062e5c8a9d3row3_col0\" class=\"data row3 col0\" >0.0284965</td> \n",
       "        <td id=\"T_bd0e901c_e682_11e9_aece_1062e5c8a9d3row3_col1\" class=\"data row3 col1\" >-0.0426967</td> \n",
       "        <td id=\"T_bd0e901c_e682_11e9_aece_1062e5c8a9d3row3_col2\" class=\"data row3 col2\" >0.0807278</td> \n",
       "        <td id=\"T_bd0e901c_e682_11e9_aece_1062e5c8a9d3row3_col3\" class=\"data row3 col3\" >1</td> \n",
       "        <td id=\"T_bd0e901c_e682_11e9_aece_1062e5c8a9d3row3_col4\" class=\"data row3 col4\" >0.0912028</td> \n",
       "        <td id=\"T_bd0e901c_e682_11e9_aece_1062e5c8a9d3row3_col5\" class=\"data row3 col5\" >0.0912512</td> \n",
       "        <td id=\"T_bd0e901c_e682_11e9_aece_1062e5c8a9d3row3_col6\" class=\"data row3 col6\" >0.0865178</td> \n",
       "        <td id=\"T_bd0e901c_e682_11e9_aece_1062e5c8a9d3row3_col7\" class=\"data row3 col7\" >-0.0870374</td> \n",
       "        <td id=\"T_bd0e901c_e682_11e9_aece_1062e5c8a9d3row3_col8\" class=\"data row3 col8\" >0.0128765</td> \n",
       "        <td id=\"T_bd0e901c_e682_11e9_aece_1062e5c8a9d3row3_col9\" class=\"data row3 col9\" >-0.0355865</td> \n",
       "        <td id=\"T_bd0e901c_e682_11e9_aece_1062e5c8a9d3row3_col10\" class=\"data row3 col10\" >-0.121515</td> \n",
       "        <td id=\"T_bd0e901c_e682_11e9_aece_1062e5c8a9d3row3_col11\" class=\"data row3 col11\" >0.0487885</td> \n",
       "        <td id=\"T_bd0e901c_e682_11e9_aece_1062e5c8a9d3row3_col12\" class=\"data row3 col12\" >-0.074074</td> \n",
       "        <td id=\"T_bd0e901c_e682_11e9_aece_1062e5c8a9d3row3_col13\" class=\"data row3 col13\" >0.158412</td> \n",
       "    </tr>    <tr> \n",
       "        <th id=\"T_bd0e901c_e682_11e9_aece_1062e5c8a9d3level0_row4\" class=\"row_heading level0 row4\" >NOX</th> \n",
       "        <td id=\"T_bd0e901c_e682_11e9_aece_1062e5c8a9d3row4_col0\" class=\"data row4 col0\" >0.788616</td> \n",
       "        <td id=\"T_bd0e901c_e682_11e9_aece_1062e5c8a9d3row4_col1\" class=\"data row4 col1\" >-0.516604</td> \n",
       "        <td id=\"T_bd0e901c_e682_11e9_aece_1062e5c8a9d3row4_col2\" class=\"data row4 col2\" >0.724931</td> \n",
       "        <td id=\"T_bd0e901c_e682_11e9_aece_1062e5c8a9d3row4_col3\" class=\"data row4 col3\" >0.0912028</td> \n",
       "        <td id=\"T_bd0e901c_e682_11e9_aece_1062e5c8a9d3row4_col4\" class=\"data row4 col4\" >1</td> \n",
       "        <td id=\"T_bd0e901c_e682_11e9_aece_1062e5c8a9d3row4_col5\" class=\"data row4 col5\" >-0.302188</td> \n",
       "        <td id=\"T_bd0e901c_e682_11e9_aece_1062e5c8a9d3row4_col6\" class=\"data row4 col6\" >0.73147</td> \n",
       "        <td id=\"T_bd0e901c_e682_11e9_aece_1062e5c8a9d3row4_col7\" class=\"data row4 col7\" >-0.831977</td> \n",
       "        <td id=\"T_bd0e901c_e682_11e9_aece_1062e5c8a9d3row4_col8\" class=\"data row4 col8\" >0.596672</td> \n",
       "        <td id=\"T_bd0e901c_e682_11e9_aece_1062e5c8a9d3row4_col9\" class=\"data row4 col9\" >0.668023</td> \n",
       "        <td id=\"T_bd0e901c_e682_11e9_aece_1062e5c8a9d3row4_col10\" class=\"data row4 col10\" >0.188933</td> \n",
       "        <td id=\"T_bd0e901c_e682_11e9_aece_1062e5c8a9d3row4_col11\" class=\"data row4 col11\" >-0.380051</td> \n",
       "        <td id=\"T_bd0e901c_e682_11e9_aece_1062e5c8a9d3row4_col12\" class=\"data row4 col12\" >0.577072</td> \n",
       "        <td id=\"T_bd0e901c_e682_11e9_aece_1062e5c8a9d3row4_col13\" class=\"data row4 col13\" >-0.5106</td> \n",
       "    </tr>    <tr> \n",
       "        <th id=\"T_bd0e901c_e682_11e9_aece_1062e5c8a9d3level0_row5\" class=\"row_heading level0 row5\" >RM</th> \n",
       "        <td id=\"T_bd0e901c_e682_11e9_aece_1062e5c8a9d3row5_col0\" class=\"data row5 col0\" >-0.306943</td> \n",
       "        <td id=\"T_bd0e901c_e682_11e9_aece_1062e5c8a9d3row5_col1\" class=\"data row5 col1\" >0.311991</td> \n",
       "        <td id=\"T_bd0e901c_e682_11e9_aece_1062e5c8a9d3row5_col2\" class=\"data row5 col2\" >-0.431267</td> \n",
       "        <td id=\"T_bd0e901c_e682_11e9_aece_1062e5c8a9d3row5_col3\" class=\"data row5 col3\" >0.0912512</td> \n",
       "        <td id=\"T_bd0e901c_e682_11e9_aece_1062e5c8a9d3row5_col4\" class=\"data row5 col4\" >-0.302188</td> \n",
       "        <td id=\"T_bd0e901c_e682_11e9_aece_1062e5c8a9d3row5_col5\" class=\"data row5 col5\" >1</td> \n",
       "        <td id=\"T_bd0e901c_e682_11e9_aece_1062e5c8a9d3row5_col6\" class=\"data row5 col6\" >-0.240265</td> \n",
       "        <td id=\"T_bd0e901c_e682_11e9_aece_1062e5c8a9d3row5_col7\" class=\"data row5 col7\" >0.256584</td> \n",
       "        <td id=\"T_bd0e901c_e682_11e9_aece_1062e5c8a9d3row5_col8\" class=\"data row5 col8\" >-0.200742</td> \n",
       "        <td id=\"T_bd0e901c_e682_11e9_aece_1062e5c8a9d3row5_col9\" class=\"data row5 col9\" >-0.292048</td> \n",
       "        <td id=\"T_bd0e901c_e682_11e9_aece_1062e5c8a9d3row5_col10\" class=\"data row5 col10\" >-0.355501</td> \n",
       "        <td id=\"T_bd0e901c_e682_11e9_aece_1062e5c8a9d3row5_col11\" class=\"data row5 col11\" >0.128069</td> \n",
       "        <td id=\"T_bd0e901c_e682_11e9_aece_1062e5c8a9d3row5_col12\" class=\"data row5 col12\" >-0.664528</td> \n",
       "        <td id=\"T_bd0e901c_e682_11e9_aece_1062e5c8a9d3row5_col13\" class=\"data row5 col13\" >0.632021</td> \n",
       "    </tr>    <tr> \n",
       "        <th id=\"T_bd0e901c_e682_11e9_aece_1062e5c8a9d3level0_row6\" class=\"row_heading level0 row6\" >AGE</th> \n",
       "        <td id=\"T_bd0e901c_e682_11e9_aece_1062e5c8a9d3row6_col0\" class=\"data row6 col0\" >0.658284</td> \n",
       "        <td id=\"T_bd0e901c_e682_11e9_aece_1062e5c8a9d3row6_col1\" class=\"data row6 col1\" >-0.569537</td> \n",
       "        <td id=\"T_bd0e901c_e682_11e9_aece_1062e5c8a9d3row6_col2\" class=\"data row6 col2\" >0.625381</td> \n",
       "        <td id=\"T_bd0e901c_e682_11e9_aece_1062e5c8a9d3row6_col3\" class=\"data row6 col3\" >0.0865178</td> \n",
       "        <td id=\"T_bd0e901c_e682_11e9_aece_1062e5c8a9d3row6_col4\" class=\"data row6 col4\" >0.73147</td> \n",
       "        <td id=\"T_bd0e901c_e682_11e9_aece_1062e5c8a9d3row6_col5\" class=\"data row6 col5\" >-0.240265</td> \n",
       "        <td id=\"T_bd0e901c_e682_11e9_aece_1062e5c8a9d3row6_col6\" class=\"data row6 col6\" >1</td> \n",
       "        <td id=\"T_bd0e901c_e682_11e9_aece_1062e5c8a9d3row6_col7\" class=\"data row6 col7\" >-0.778243</td> \n",
       "        <td id=\"T_bd0e901c_e682_11e9_aece_1062e5c8a9d3row6_col8\" class=\"data row6 col8\" >0.449098</td> \n",
       "        <td id=\"T_bd0e901c_e682_11e9_aece_1062e5c8a9d3row6_col9\" class=\"data row6 col9\" >0.506456</td> \n",
       "        <td id=\"T_bd0e901c_e682_11e9_aece_1062e5c8a9d3row6_col10\" class=\"data row6 col10\" >0.261515</td> \n",
       "        <td id=\"T_bd0e901c_e682_11e9_aece_1062e5c8a9d3row6_col11\" class=\"data row6 col11\" >-0.273534</td> \n",
       "        <td id=\"T_bd0e901c_e682_11e9_aece_1062e5c8a9d3row6_col12\" class=\"data row6 col12\" >0.606806</td> \n",
       "        <td id=\"T_bd0e901c_e682_11e9_aece_1062e5c8a9d3row6_col13\" class=\"data row6 col13\" >-0.453422</td> \n",
       "    </tr>    <tr> \n",
       "        <th id=\"T_bd0e901c_e682_11e9_aece_1062e5c8a9d3level0_row7\" class=\"row_heading level0 row7\" >DIS</th> \n",
       "        <td id=\"T_bd0e901c_e682_11e9_aece_1062e5c8a9d3row7_col0\" class=\"data row7 col0\" >-0.743926</td> \n",
       "        <td id=\"T_bd0e901c_e682_11e9_aece_1062e5c8a9d3row7_col1\" class=\"data row7 col1\" >0.590655</td> \n",
       "        <td id=\"T_bd0e901c_e682_11e9_aece_1062e5c8a9d3row7_col2\" class=\"data row7 col2\" >-0.730297</td> \n",
       "        <td id=\"T_bd0e901c_e682_11e9_aece_1062e5c8a9d3row7_col3\" class=\"data row7 col3\" >-0.0870374</td> \n",
       "        <td id=\"T_bd0e901c_e682_11e9_aece_1062e5c8a9d3row7_col4\" class=\"data row7 col4\" >-0.831977</td> \n",
       "        <td id=\"T_bd0e901c_e682_11e9_aece_1062e5c8a9d3row7_col5\" class=\"data row7 col5\" >0.256584</td> \n",
       "        <td id=\"T_bd0e901c_e682_11e9_aece_1062e5c8a9d3row7_col6\" class=\"data row7 col6\" >-0.778243</td> \n",
       "        <td id=\"T_bd0e901c_e682_11e9_aece_1062e5c8a9d3row7_col7\" class=\"data row7 col7\" >1</td> \n",
       "        <td id=\"T_bd0e901c_e682_11e9_aece_1062e5c8a9d3row7_col8\" class=\"data row7 col8\" >-0.542112</td> \n",
       "        <td id=\"T_bd0e901c_e682_11e9_aece_1062e5c8a9d3row7_col9\" class=\"data row7 col9\" >-0.619008</td> \n",
       "        <td id=\"T_bd0e901c_e682_11e9_aece_1062e5c8a9d3row7_col10\" class=\"data row7 col10\" >-0.238127</td> \n",
       "        <td id=\"T_bd0e901c_e682_11e9_aece_1062e5c8a9d3row7_col11\" class=\"data row7 col11\" >0.324841</td> \n",
       "        <td id=\"T_bd0e901c_e682_11e9_aece_1062e5c8a9d3row7_col12\" class=\"data row7 col12\" >-0.524343</td> \n",
       "        <td id=\"T_bd0e901c_e682_11e9_aece_1062e5c8a9d3row7_col13\" class=\"data row7 col13\" >0.405721</td> \n",
       "    </tr>    <tr> \n",
       "        <th id=\"T_bd0e901c_e682_11e9_aece_1062e5c8a9d3level0_row8\" class=\"row_heading level0 row8\" >RAD</th> \n",
       "        <td id=\"T_bd0e901c_e682_11e9_aece_1062e5c8a9d3row8_col0\" class=\"data row8 col0\" >0.838943</td> \n",
       "        <td id=\"T_bd0e901c_e682_11e9_aece_1062e5c8a9d3row8_col1\" class=\"data row8 col1\" >-0.350643</td> \n",
       "        <td id=\"T_bd0e901c_e682_11e9_aece_1062e5c8a9d3row8_col2\" class=\"data row8 col2\" >0.580533</td> \n",
       "        <td id=\"T_bd0e901c_e682_11e9_aece_1062e5c8a9d3row8_col3\" class=\"data row8 col3\" >0.0128765</td> \n",
       "        <td id=\"T_bd0e901c_e682_11e9_aece_1062e5c8a9d3row8_col4\" class=\"data row8 col4\" >0.596672</td> \n",
       "        <td id=\"T_bd0e901c_e682_11e9_aece_1062e5c8a9d3row8_col5\" class=\"data row8 col5\" >-0.200742</td> \n",
       "        <td id=\"T_bd0e901c_e682_11e9_aece_1062e5c8a9d3row8_col6\" class=\"data row8 col6\" >0.449098</td> \n",
       "        <td id=\"T_bd0e901c_e682_11e9_aece_1062e5c8a9d3row8_col7\" class=\"data row8 col7\" >-0.542112</td> \n",
       "        <td id=\"T_bd0e901c_e682_11e9_aece_1062e5c8a9d3row8_col8\" class=\"data row8 col8\" >1</td> \n",
       "        <td id=\"T_bd0e901c_e682_11e9_aece_1062e5c8a9d3row8_col9\" class=\"data row8 col9\" >0.850533</td> \n",
       "        <td id=\"T_bd0e901c_e682_11e9_aece_1062e5c8a9d3row8_col10\" class=\"data row8 col10\" >0.413598</td> \n",
       "        <td id=\"T_bd0e901c_e682_11e9_aece_1062e5c8a9d3row8_col11\" class=\"data row8 col11\" >-0.411266</td> \n",
       "        <td id=\"T_bd0e901c_e682_11e9_aece_1062e5c8a9d3row8_col12\" class=\"data row8 col12\" >0.439819</td> \n",
       "        <td id=\"T_bd0e901c_e682_11e9_aece_1062e5c8a9d3row8_col13\" class=\"data row8 col13\" >-0.434513</td> \n",
       "    </tr>    <tr> \n",
       "        <th id=\"T_bd0e901c_e682_11e9_aece_1062e5c8a9d3level0_row9\" class=\"row_heading level0 row9\" >TAX</th> \n",
       "        <td id=\"T_bd0e901c_e682_11e9_aece_1062e5c8a9d3row9_col0\" class=\"data row9 col0\" >0.828234</td> \n",
       "        <td id=\"T_bd0e901c_e682_11e9_aece_1062e5c8a9d3row9_col1\" class=\"data row9 col1\" >-0.314563</td> \n",
       "        <td id=\"T_bd0e901c_e682_11e9_aece_1062e5c8a9d3row9_col2\" class=\"data row9 col2\" >0.66152</td> \n",
       "        <td id=\"T_bd0e901c_e682_11e9_aece_1062e5c8a9d3row9_col3\" class=\"data row9 col3\" >-0.0355865</td> \n",
       "        <td id=\"T_bd0e901c_e682_11e9_aece_1062e5c8a9d3row9_col4\" class=\"data row9 col4\" >0.668023</td> \n",
       "        <td id=\"T_bd0e901c_e682_11e9_aece_1062e5c8a9d3row9_col5\" class=\"data row9 col5\" >-0.292048</td> \n",
       "        <td id=\"T_bd0e901c_e682_11e9_aece_1062e5c8a9d3row9_col6\" class=\"data row9 col6\" >0.506456</td> \n",
       "        <td id=\"T_bd0e901c_e682_11e9_aece_1062e5c8a9d3row9_col7\" class=\"data row9 col7\" >-0.619008</td> \n",
       "        <td id=\"T_bd0e901c_e682_11e9_aece_1062e5c8a9d3row9_col8\" class=\"data row9 col8\" >0.850533</td> \n",
       "        <td id=\"T_bd0e901c_e682_11e9_aece_1062e5c8a9d3row9_col9\" class=\"data row9 col9\" >1</td> \n",
       "        <td id=\"T_bd0e901c_e682_11e9_aece_1062e5c8a9d3row9_col10\" class=\"data row9 col10\" >0.460853</td> \n",
       "        <td id=\"T_bd0e901c_e682_11e9_aece_1062e5c8a9d3row9_col11\" class=\"data row9 col11\" >-0.441808</td> \n",
       "        <td id=\"T_bd0e901c_e682_11e9_aece_1062e5c8a9d3row9_col12\" class=\"data row9 col12\" >0.522385</td> \n",
       "        <td id=\"T_bd0e901c_e682_11e9_aece_1062e5c8a9d3row9_col13\" class=\"data row9 col13\" >-0.561466</td> \n",
       "    </tr>    <tr> \n",
       "        <th id=\"T_bd0e901c_e682_11e9_aece_1062e5c8a9d3level0_row10\" class=\"row_heading level0 row10\" >PTRATIO</th> \n",
       "        <td id=\"T_bd0e901c_e682_11e9_aece_1062e5c8a9d3row10_col0\" class=\"data row10 col0\" >0.389554</td> \n",
       "        <td id=\"T_bd0e901c_e682_11e9_aece_1062e5c8a9d3row10_col1\" class=\"data row10 col1\" >-0.391679</td> \n",
       "        <td id=\"T_bd0e901c_e682_11e9_aece_1062e5c8a9d3row10_col2\" class=\"data row10 col2\" >0.430022</td> \n",
       "        <td id=\"T_bd0e901c_e682_11e9_aece_1062e5c8a9d3row10_col3\" class=\"data row10 col3\" >-0.121515</td> \n",
       "        <td id=\"T_bd0e901c_e682_11e9_aece_1062e5c8a9d3row10_col4\" class=\"data row10 col4\" >0.188933</td> \n",
       "        <td id=\"T_bd0e901c_e682_11e9_aece_1062e5c8a9d3row10_col5\" class=\"data row10 col5\" >-0.355501</td> \n",
       "        <td id=\"T_bd0e901c_e682_11e9_aece_1062e5c8a9d3row10_col6\" class=\"data row10 col6\" >0.261515</td> \n",
       "        <td id=\"T_bd0e901c_e682_11e9_aece_1062e5c8a9d3row10_col7\" class=\"data row10 col7\" >-0.238127</td> \n",
       "        <td id=\"T_bd0e901c_e682_11e9_aece_1062e5c8a9d3row10_col8\" class=\"data row10 col8\" >0.413598</td> \n",
       "        <td id=\"T_bd0e901c_e682_11e9_aece_1062e5c8a9d3row10_col9\" class=\"data row10 col9\" >0.460853</td> \n",
       "        <td id=\"T_bd0e901c_e682_11e9_aece_1062e5c8a9d3row10_col10\" class=\"data row10 col10\" >1</td> \n",
       "        <td id=\"T_bd0e901c_e682_11e9_aece_1062e5c8a9d3row10_col11\" class=\"data row10 col11\" >-0.177383</td> \n",
       "        <td id=\"T_bd0e901c_e682_11e9_aece_1062e5c8a9d3row10_col12\" class=\"data row10 col12\" >0.417022</td> \n",
       "        <td id=\"T_bd0e901c_e682_11e9_aece_1062e5c8a9d3row10_col13\" class=\"data row10 col13\" >-0.501729</td> \n",
       "    </tr>    <tr> \n",
       "        <th id=\"T_bd0e901c_e682_11e9_aece_1062e5c8a9d3level0_row11\" class=\"row_heading level0 row11\" >B</th> \n",
       "        <td id=\"T_bd0e901c_e682_11e9_aece_1062e5c8a9d3row11_col0\" class=\"data row11 col0\" >-0.478755</td> \n",
       "        <td id=\"T_bd0e901c_e682_11e9_aece_1062e5c8a9d3row11_col1\" class=\"data row11 col1\" >0.17552</td> \n",
       "        <td id=\"T_bd0e901c_e682_11e9_aece_1062e5c8a9d3row11_col2\" class=\"data row11 col2\" >-0.33105</td> \n",
       "        <td id=\"T_bd0e901c_e682_11e9_aece_1062e5c8a9d3row11_col3\" class=\"data row11 col3\" >0.0487885</td> \n",
       "        <td id=\"T_bd0e901c_e682_11e9_aece_1062e5c8a9d3row11_col4\" class=\"data row11 col4\" >-0.380051</td> \n",
       "        <td id=\"T_bd0e901c_e682_11e9_aece_1062e5c8a9d3row11_col5\" class=\"data row11 col5\" >0.128069</td> \n",
       "        <td id=\"T_bd0e901c_e682_11e9_aece_1062e5c8a9d3row11_col6\" class=\"data row11 col6\" >-0.273534</td> \n",
       "        <td id=\"T_bd0e901c_e682_11e9_aece_1062e5c8a9d3row11_col7\" class=\"data row11 col7\" >0.324841</td> \n",
       "        <td id=\"T_bd0e901c_e682_11e9_aece_1062e5c8a9d3row11_col8\" class=\"data row11 col8\" >-0.411266</td> \n",
       "        <td id=\"T_bd0e901c_e682_11e9_aece_1062e5c8a9d3row11_col9\" class=\"data row11 col9\" >-0.441808</td> \n",
       "        <td id=\"T_bd0e901c_e682_11e9_aece_1062e5c8a9d3row11_col10\" class=\"data row11 col10\" >-0.177383</td> \n",
       "        <td id=\"T_bd0e901c_e682_11e9_aece_1062e5c8a9d3row11_col11\" class=\"data row11 col11\" >1</td> \n",
       "        <td id=\"T_bd0e901c_e682_11e9_aece_1062e5c8a9d3row11_col12\" class=\"data row11 col12\" >-0.341279</td> \n",
       "        <td id=\"T_bd0e901c_e682_11e9_aece_1062e5c8a9d3row11_col13\" class=\"data row11 col13\" >0.402382</td> \n",
       "    </tr>    <tr> \n",
       "        <th id=\"T_bd0e901c_e682_11e9_aece_1062e5c8a9d3level0_row12\" class=\"row_heading level0 row12\" >LSTAT</th> \n",
       "        <td id=\"T_bd0e901c_e682_11e9_aece_1062e5c8a9d3row12_col0\" class=\"data row12 col0\" >0.591796</td> \n",
       "        <td id=\"T_bd0e901c_e682_11e9_aece_1062e5c8a9d3row12_col1\" class=\"data row12 col1\" >-0.477706</td> \n",
       "        <td id=\"T_bd0e901c_e682_11e9_aece_1062e5c8a9d3row12_col2\" class=\"data row12 col2\" >0.617578</td> \n",
       "        <td id=\"T_bd0e901c_e682_11e9_aece_1062e5c8a9d3row12_col3\" class=\"data row12 col3\" >-0.074074</td> \n",
       "        <td id=\"T_bd0e901c_e682_11e9_aece_1062e5c8a9d3row12_col4\" class=\"data row12 col4\" >0.577072</td> \n",
       "        <td id=\"T_bd0e901c_e682_11e9_aece_1062e5c8a9d3row12_col5\" class=\"data row12 col5\" >-0.664528</td> \n",
       "        <td id=\"T_bd0e901c_e682_11e9_aece_1062e5c8a9d3row12_col6\" class=\"data row12 col6\" >0.606806</td> \n",
       "        <td id=\"T_bd0e901c_e682_11e9_aece_1062e5c8a9d3row12_col7\" class=\"data row12 col7\" >-0.524343</td> \n",
       "        <td id=\"T_bd0e901c_e682_11e9_aece_1062e5c8a9d3row12_col8\" class=\"data row12 col8\" >0.439819</td> \n",
       "        <td id=\"T_bd0e901c_e682_11e9_aece_1062e5c8a9d3row12_col9\" class=\"data row12 col9\" >0.522385</td> \n",
       "        <td id=\"T_bd0e901c_e682_11e9_aece_1062e5c8a9d3row12_col10\" class=\"data row12 col10\" >0.417022</td> \n",
       "        <td id=\"T_bd0e901c_e682_11e9_aece_1062e5c8a9d3row12_col11\" class=\"data row12 col11\" >-0.341279</td> \n",
       "        <td id=\"T_bd0e901c_e682_11e9_aece_1062e5c8a9d3row12_col12\" class=\"data row12 col12\" >1</td> \n",
       "        <td id=\"T_bd0e901c_e682_11e9_aece_1062e5c8a9d3row12_col13\" class=\"data row12 col13\" >-0.82296</td> \n",
       "    </tr>    <tr> \n",
       "        <th id=\"T_bd0e901c_e682_11e9_aece_1062e5c8a9d3level0_row13\" class=\"row_heading level0 row13\" >MEDV</th> \n",
       "        <td id=\"T_bd0e901c_e682_11e9_aece_1062e5c8a9d3row13_col0\" class=\"data row13 col0\" >-0.567242</td> \n",
       "        <td id=\"T_bd0e901c_e682_11e9_aece_1062e5c8a9d3row13_col1\" class=\"data row13 col1\" >0.363344</td> \n",
       "        <td id=\"T_bd0e901c_e682_11e9_aece_1062e5c8a9d3row13_col2\" class=\"data row13 col2\" >-0.553887</td> \n",
       "        <td id=\"T_bd0e901c_e682_11e9_aece_1062e5c8a9d3row13_col3\" class=\"data row13 col3\" >0.158412</td> \n",
       "        <td id=\"T_bd0e901c_e682_11e9_aece_1062e5c8a9d3row13_col4\" class=\"data row13 col4\" >-0.5106</td> \n",
       "        <td id=\"T_bd0e901c_e682_11e9_aece_1062e5c8a9d3row13_col5\" class=\"data row13 col5\" >0.632021</td> \n",
       "        <td id=\"T_bd0e901c_e682_11e9_aece_1062e5c8a9d3row13_col6\" class=\"data row13 col6\" >-0.453422</td> \n",
       "        <td id=\"T_bd0e901c_e682_11e9_aece_1062e5c8a9d3row13_col7\" class=\"data row13 col7\" >0.405721</td> \n",
       "        <td id=\"T_bd0e901c_e682_11e9_aece_1062e5c8a9d3row13_col8\" class=\"data row13 col8\" >-0.434513</td> \n",
       "        <td id=\"T_bd0e901c_e682_11e9_aece_1062e5c8a9d3row13_col9\" class=\"data row13 col9\" >-0.561466</td> \n",
       "        <td id=\"T_bd0e901c_e682_11e9_aece_1062e5c8a9d3row13_col10\" class=\"data row13 col10\" >-0.501729</td> \n",
       "        <td id=\"T_bd0e901c_e682_11e9_aece_1062e5c8a9d3row13_col11\" class=\"data row13 col11\" >0.402382</td> \n",
       "        <td id=\"T_bd0e901c_e682_11e9_aece_1062e5c8a9d3row13_col12\" class=\"data row13 col12\" >-0.82296</td> \n",
       "        <td id=\"T_bd0e901c_e682_11e9_aece_1062e5c8a9d3row13_col13\" class=\"data row13 col13\" >1</td> \n",
       "    </tr></tbody> \n",
       "</table> "
      ],
      "text/plain": [
       "<pandas.io.formats.style.Styler at 0x19a159d0fd0>"
      ]
     },
     "execution_count": 99,
     "metadata": {},
     "output_type": "execute_result"
    }
   ],
   "source": [
    "corr = df.corr()\n",
    "corr.style.background_gradient(cmap='coolwarm')"
   ]
  },
  {
   "cell_type": "markdown",
   "metadata": {},
   "source": [
    "## Variance Inflation Factor"
   ]
  },
  {
   "cell_type": "code",
   "execution_count": 100,
   "metadata": {},
   "outputs": [],
   "source": [
    "import statsmodels.api as sm\n",
    "from statsmodels.stats.outliers_influence import variance_inflation_factor"
   ]
  },
  {
   "cell_type": "code",
   "execution_count": 101,
   "metadata": {},
   "outputs": [
    {
     "data": {
      "text/html": [
       "<div>\n",
       "<style scoped>\n",
       "    .dataframe tbody tr th:only-of-type {\n",
       "        vertical-align: middle;\n",
       "    }\n",
       "\n",
       "    .dataframe tbody tr th {\n",
       "        vertical-align: top;\n",
       "    }\n",
       "\n",
       "    .dataframe thead th {\n",
       "        text-align: right;\n",
       "    }\n",
       "</style>\n",
       "<table border=\"1\" class=\"dataframe\">\n",
       "  <thead>\n",
       "    <tr style=\"text-align: right;\">\n",
       "      <th></th>\n",
       "      <th>CRIM</th>\n",
       "      <th>ZN</th>\n",
       "      <th>INDUS</th>\n",
       "      <th>CHAS</th>\n",
       "      <th>NOX</th>\n",
       "      <th>RM</th>\n",
       "      <th>AGE</th>\n",
       "      <th>DIS</th>\n",
       "      <th>RAD</th>\n",
       "      <th>TAX</th>\n",
       "      <th>PTRATIO</th>\n",
       "      <th>B</th>\n",
       "      <th>LSTAT</th>\n",
       "      <th>MEDV</th>\n",
       "    </tr>\n",
       "  </thead>\n",
       "  <tbody>\n",
       "    <tr>\n",
       "      <th>0</th>\n",
       "      <td>-5.064036</td>\n",
       "      <td>18.0</td>\n",
       "      <td>0.837248</td>\n",
       "      <td>0</td>\n",
       "      <td>0.538</td>\n",
       "      <td>6.575</td>\n",
       "      <td>65.2</td>\n",
       "      <td>1.408545</td>\n",
       "      <td>0.000000</td>\n",
       "      <td>296.0</td>\n",
       "      <td>15.3</td>\n",
       "      <td>396.90</td>\n",
       "      <td>1.605430</td>\n",
       "      <td>3.178054</td>\n",
       "    </tr>\n",
       "    <tr>\n",
       "      <th>1</th>\n",
       "      <td>-3.600502</td>\n",
       "      <td>0.0</td>\n",
       "      <td>1.955860</td>\n",
       "      <td>0</td>\n",
       "      <td>0.469</td>\n",
       "      <td>6.421</td>\n",
       "      <td>78.9</td>\n",
       "      <td>1.602836</td>\n",
       "      <td>0.693147</td>\n",
       "      <td>242.0</td>\n",
       "      <td>17.8</td>\n",
       "      <td>396.90</td>\n",
       "      <td>2.212660</td>\n",
       "      <td>3.072693</td>\n",
       "    </tr>\n",
       "    <tr>\n",
       "      <th>2</th>\n",
       "      <td>-3.601235</td>\n",
       "      <td>0.0</td>\n",
       "      <td>1.955860</td>\n",
       "      <td>0</td>\n",
       "      <td>0.469</td>\n",
       "      <td>7.185</td>\n",
       "      <td>61.1</td>\n",
       "      <td>1.602836</td>\n",
       "      <td>0.693147</td>\n",
       "      <td>242.0</td>\n",
       "      <td>17.8</td>\n",
       "      <td>392.83</td>\n",
       "      <td>1.393766</td>\n",
       "      <td>3.546740</td>\n",
       "    </tr>\n",
       "    <tr>\n",
       "      <th>3</th>\n",
       "      <td>-3.430523</td>\n",
       "      <td>0.0</td>\n",
       "      <td>0.779325</td>\n",
       "      <td>0</td>\n",
       "      <td>0.458</td>\n",
       "      <td>6.998</td>\n",
       "      <td>45.8</td>\n",
       "      <td>1.802073</td>\n",
       "      <td>1.098612</td>\n",
       "      <td>222.0</td>\n",
       "      <td>18.7</td>\n",
       "      <td>394.63</td>\n",
       "      <td>1.078410</td>\n",
       "      <td>3.508556</td>\n",
       "    </tr>\n",
       "    <tr>\n",
       "      <th>4</th>\n",
       "      <td>-2.672924</td>\n",
       "      <td>0.0</td>\n",
       "      <td>0.779325</td>\n",
       "      <td>0</td>\n",
       "      <td>0.458</td>\n",
       "      <td>7.147</td>\n",
       "      <td>54.2</td>\n",
       "      <td>1.802073</td>\n",
       "      <td>1.098612</td>\n",
       "      <td>222.0</td>\n",
       "      <td>18.7</td>\n",
       "      <td>396.90</td>\n",
       "      <td>1.673351</td>\n",
       "      <td>3.589059</td>\n",
       "    </tr>\n",
       "  </tbody>\n",
       "</table>\n",
       "</div>"
      ],
      "text/plain": [
       "       CRIM    ZN     INDUS  CHAS    NOX     RM   AGE       DIS       RAD  \\\n",
       "0 -5.064036  18.0  0.837248     0  0.538  6.575  65.2  1.408545  0.000000   \n",
       "1 -3.600502   0.0  1.955860     0  0.469  6.421  78.9  1.602836  0.693147   \n",
       "2 -3.601235   0.0  1.955860     0  0.469  7.185  61.1  1.602836  0.693147   \n",
       "3 -3.430523   0.0  0.779325     0  0.458  6.998  45.8  1.802073  1.098612   \n",
       "4 -2.672924   0.0  0.779325     0  0.458  7.147  54.2  1.802073  1.098612   \n",
       "\n",
       "     TAX  PTRATIO       B     LSTAT      MEDV  \n",
       "0  296.0     15.3  396.90  1.605430  3.178054  \n",
       "1  242.0     17.8  396.90  2.212660  3.072693  \n",
       "2  242.0     17.8  392.83  1.393766  3.546740  \n",
       "3  222.0     18.7  394.63  1.078410  3.508556  \n",
       "4  222.0     18.7  396.90  1.673351  3.589059  "
      ]
     },
     "execution_count": 101,
     "metadata": {},
     "output_type": "execute_result"
    }
   ],
   "source": [
    "# prepare a dataframe for VIF\n",
    "dfVIF = df[cols]\n",
    "dfVIF.head()"
   ]
  },
  {
   "cell_type": "code",
   "execution_count": 102,
   "metadata": {},
   "outputs": [
    {
     "data": {
      "text/html": [
       "<div>\n",
       "<style scoped>\n",
       "    .dataframe tbody tr th:only-of-type {\n",
       "        vertical-align: middle;\n",
       "    }\n",
       "\n",
       "    .dataframe tbody tr th {\n",
       "        vertical-align: top;\n",
       "    }\n",
       "\n",
       "    .dataframe thead th {\n",
       "        text-align: right;\n",
       "    }\n",
       "</style>\n",
       "<table border=\"1\" class=\"dataframe\">\n",
       "  <thead>\n",
       "    <tr style=\"text-align: right;\">\n",
       "      <th></th>\n",
       "      <th>VIF Factor</th>\n",
       "      <th>features</th>\n",
       "    </tr>\n",
       "  </thead>\n",
       "  <tbody>\n",
       "    <tr>\n",
       "      <th>0</th>\n",
       "      <td>8.656432</td>\n",
       "      <td>CRIM</td>\n",
       "    </tr>\n",
       "    <tr>\n",
       "      <th>1</th>\n",
       "      <td>2.902566</td>\n",
       "      <td>ZN</td>\n",
       "    </tr>\n",
       "    <tr>\n",
       "      <th>2</th>\n",
       "      <td>32.627128</td>\n",
       "      <td>INDUS</td>\n",
       "    </tr>\n",
       "    <tr>\n",
       "      <th>3</th>\n",
       "      <td>1.175691</td>\n",
       "      <td>CHAS</td>\n",
       "    </tr>\n",
       "    <tr>\n",
       "      <th>4</th>\n",
       "      <td>89.800682</td>\n",
       "      <td>NOX</td>\n",
       "    </tr>\n",
       "    <tr>\n",
       "      <th>5</th>\n",
       "      <td>147.046248</td>\n",
       "      <td>RM</td>\n",
       "    </tr>\n",
       "    <tr>\n",
       "      <th>6</th>\n",
       "      <td>23.669263</td>\n",
       "      <td>AGE</td>\n",
       "    </tr>\n",
       "    <tr>\n",
       "      <th>7</th>\n",
       "      <td>24.665857</td>\n",
       "      <td>DIS</td>\n",
       "    </tr>\n",
       "    <tr>\n",
       "      <th>8</th>\n",
       "      <td>30.275014</td>\n",
       "      <td>RAD</td>\n",
       "    </tr>\n",
       "    <tr>\n",
       "      <th>9</th>\n",
       "      <td>40.729038</td>\n",
       "      <td>TAX</td>\n",
       "    </tr>\n",
       "    <tr>\n",
       "      <th>10</th>\n",
       "      <td>103.477227</td>\n",
       "      <td>PTRATIO</td>\n",
       "    </tr>\n",
       "    <tr>\n",
       "      <th>11</th>\n",
       "      <td>22.769174</td>\n",
       "      <td>B</td>\n",
       "    </tr>\n",
       "    <tr>\n",
       "      <th>12</th>\n",
       "      <td>49.224318</td>\n",
       "      <td>LSTAT</td>\n",
       "    </tr>\n",
       "    <tr>\n",
       "      <th>13</th>\n",
       "      <td>144.031210</td>\n",
       "      <td>MEDV</td>\n",
       "    </tr>\n",
       "  </tbody>\n",
       "</table>\n",
       "</div>"
      ],
      "text/plain": [
       "    VIF Factor features\n",
       "0     8.656432     CRIM\n",
       "1     2.902566       ZN\n",
       "2    32.627128    INDUS\n",
       "3     1.175691     CHAS\n",
       "4    89.800682      NOX\n",
       "5   147.046248       RM\n",
       "6    23.669263      AGE\n",
       "7    24.665857      DIS\n",
       "8    30.275014      RAD\n",
       "9    40.729038      TAX\n",
       "10  103.477227  PTRATIO\n",
       "11   22.769174        B\n",
       "12   49.224318    LSTAT\n",
       "13  144.031210     MEDV"
      ]
     },
     "execution_count": 102,
     "metadata": {},
     "output_type": "execute_result"
    }
   ],
   "source": [
    "vif = pd.DataFrame()\n",
    "vif[\"VIF Factor\"] = [variance_inflation_factor(dfVIF.values, i) for i in range(dfVIF.shape[1])]\n",
    "vif[\"features\"] = dfVIF.columns\n",
    "vif"
   ]
  },
  {
   "cell_type": "markdown",
   "metadata": {},
   "source": [
    "## Feature Importance"
   ]
  },
  {
   "cell_type": "code",
   "execution_count": 103,
   "metadata": {},
   "outputs": [
    {
     "data": {
      "text/html": [
       "<div>\n",
       "<style scoped>\n",
       "    .dataframe tbody tr th:only-of-type {\n",
       "        vertical-align: middle;\n",
       "    }\n",
       "\n",
       "    .dataframe tbody tr th {\n",
       "        vertical-align: top;\n",
       "    }\n",
       "\n",
       "    .dataframe thead th {\n",
       "        text-align: right;\n",
       "    }\n",
       "</style>\n",
       "<table border=\"1\" class=\"dataframe\">\n",
       "  <thead>\n",
       "    <tr style=\"text-align: right;\">\n",
       "      <th></th>\n",
       "      <th>CRIM</th>\n",
       "      <th>ZN</th>\n",
       "      <th>INDUS</th>\n",
       "      <th>CHAS</th>\n",
       "      <th>NOX</th>\n",
       "      <th>RM</th>\n",
       "      <th>AGE</th>\n",
       "      <th>DIS</th>\n",
       "      <th>RAD</th>\n",
       "      <th>TAX</th>\n",
       "      <th>PTRATIO</th>\n",
       "      <th>B</th>\n",
       "      <th>LSTAT</th>\n",
       "    </tr>\n",
       "  </thead>\n",
       "  <tbody>\n",
       "    <tr>\n",
       "      <th>0</th>\n",
       "      <td>-5.064036</td>\n",
       "      <td>18.0</td>\n",
       "      <td>0.837248</td>\n",
       "      <td>0</td>\n",
       "      <td>0.538</td>\n",
       "      <td>6.575</td>\n",
       "      <td>65.2</td>\n",
       "      <td>1.408545</td>\n",
       "      <td>0.000000</td>\n",
       "      <td>296.0</td>\n",
       "      <td>15.3</td>\n",
       "      <td>396.90</td>\n",
       "      <td>1.605430</td>\n",
       "    </tr>\n",
       "    <tr>\n",
       "      <th>1</th>\n",
       "      <td>-3.600502</td>\n",
       "      <td>0.0</td>\n",
       "      <td>1.955860</td>\n",
       "      <td>0</td>\n",
       "      <td>0.469</td>\n",
       "      <td>6.421</td>\n",
       "      <td>78.9</td>\n",
       "      <td>1.602836</td>\n",
       "      <td>0.693147</td>\n",
       "      <td>242.0</td>\n",
       "      <td>17.8</td>\n",
       "      <td>396.90</td>\n",
       "      <td>2.212660</td>\n",
       "    </tr>\n",
       "    <tr>\n",
       "      <th>2</th>\n",
       "      <td>-3.601235</td>\n",
       "      <td>0.0</td>\n",
       "      <td>1.955860</td>\n",
       "      <td>0</td>\n",
       "      <td>0.469</td>\n",
       "      <td>7.185</td>\n",
       "      <td>61.1</td>\n",
       "      <td>1.602836</td>\n",
       "      <td>0.693147</td>\n",
       "      <td>242.0</td>\n",
       "      <td>17.8</td>\n",
       "      <td>392.83</td>\n",
       "      <td>1.393766</td>\n",
       "    </tr>\n",
       "    <tr>\n",
       "      <th>3</th>\n",
       "      <td>-3.430523</td>\n",
       "      <td>0.0</td>\n",
       "      <td>0.779325</td>\n",
       "      <td>0</td>\n",
       "      <td>0.458</td>\n",
       "      <td>6.998</td>\n",
       "      <td>45.8</td>\n",
       "      <td>1.802073</td>\n",
       "      <td>1.098612</td>\n",
       "      <td>222.0</td>\n",
       "      <td>18.7</td>\n",
       "      <td>394.63</td>\n",
       "      <td>1.078410</td>\n",
       "    </tr>\n",
       "    <tr>\n",
       "      <th>4</th>\n",
       "      <td>-2.672924</td>\n",
       "      <td>0.0</td>\n",
       "      <td>0.779325</td>\n",
       "      <td>0</td>\n",
       "      <td>0.458</td>\n",
       "      <td>7.147</td>\n",
       "      <td>54.2</td>\n",
       "      <td>1.802073</td>\n",
       "      <td>1.098612</td>\n",
       "      <td>222.0</td>\n",
       "      <td>18.7</td>\n",
       "      <td>396.90</td>\n",
       "      <td>1.673351</td>\n",
       "    </tr>\n",
       "  </tbody>\n",
       "</table>\n",
       "</div>"
      ],
      "text/plain": [
       "       CRIM    ZN     INDUS  CHAS    NOX     RM   AGE       DIS       RAD  \\\n",
       "0 -5.064036  18.0  0.837248     0  0.538  6.575  65.2  1.408545  0.000000   \n",
       "1 -3.600502   0.0  1.955860     0  0.469  6.421  78.9  1.602836  0.693147   \n",
       "2 -3.601235   0.0  1.955860     0  0.469  7.185  61.1  1.602836  0.693147   \n",
       "3 -3.430523   0.0  0.779325     0  0.458  6.998  45.8  1.802073  1.098612   \n",
       "4 -2.672924   0.0  0.779325     0  0.458  7.147  54.2  1.802073  1.098612   \n",
       "\n",
       "     TAX  PTRATIO       B     LSTAT  \n",
       "0  296.0     15.3  396.90  1.605430  \n",
       "1  242.0     17.8  396.90  2.212660  \n",
       "2  242.0     17.8  392.83  1.393766  \n",
       "3  222.0     18.7  394.63  1.078410  \n",
       "4  222.0     18.7  396.90  1.673351  "
      ]
     },
     "execution_count": 103,
     "metadata": {},
     "output_type": "execute_result"
    }
   ],
   "source": [
    "# split data into X and y\n",
    "X = df[cols[0:13]]\n",
    "y = df[cols[13]]\n",
    "X.head()"
   ]
  },
  {
   "cell_type": "code",
   "execution_count": 104,
   "metadata": {},
   "outputs": [
    {
     "data": {
      "text/plain": [
       "0    3.178054\n",
       "1    3.072693\n",
       "2    3.546740\n",
       "3    3.508556\n",
       "4    3.589059\n",
       "Name: MEDV, dtype: float64"
      ]
     },
     "execution_count": 104,
     "metadata": {},
     "output_type": "execute_result"
    }
   ],
   "source": [
    "y.head()"
   ]
  },
  {
   "cell_type": "markdown",
   "metadata": {},
   "source": [
    "### Feature Importance using RandomForest"
   ]
  },
  {
   "cell_type": "code",
   "execution_count": 105,
   "metadata": {},
   "outputs": [
    {
     "data": {
      "image/png": "[encoded data removed]",
      "text/plain": [
       "<Figure size 432x288 with 1 Axes>"
      ]
     },
     "metadata": {
      "needs_background": "light"
     },
     "output_type": "display_data"
    }
   ],
   "source": [
    "from sklearn.ensemble import RandomForestRegressor\n",
    "import numpy as np\n",
    "rfModel = RandomForestRegressor()\n",
    "rfModel.fit(X,y)\n",
    "features = cols[0:13]\n",
    "importances = rfModel.feature_importances_\n",
    "indices = np.argsort(importances)\n",
    "plt.title('Feature Importances')\n",
    "plt.barh(range(len(indices)), importances[indices], color='b', align='center')\n",
    "plt.yticks(range(len(indices)), [features[i] for i in indices])\n",
    "plt.xlabel('Relative Importance')\n",
    "plt.show()"
   ]
  },
  {
   "cell_type": "markdown",
   "metadata": {},
   "source": [
    "### Feature Importance using XGBoost"
   ]
  },
  {
   "cell_type": "code",
   "execution_count": 108,
   "metadata": {},
   "outputs": [
    {
     "data": {
      "image/png": "[encoded data removed]",
      "text/plain": [
       "<Figure size 432x288 with 1 Axes>"
      ]
     },
     "metadata": {
      "needs_background": "light"
     },
     "output_type": "display_data"
    }
   ],
   "source": [
    "from xgboost import XGBRegressor\n",
    "from xgboost import plot_importance\n",
    "from matplotlib import pyplot as plt\n",
    "model = XGBRegressor(objective='reg:squarederror')\n",
    "model.fit(X,y)\n",
    "# plot feature importance\n",
    "plot_importance(model)\n",
    "plt.show()"
   ]
  },
  {
   "cell_type": "markdown",
   "metadata": {},
   "source": [
    "## Split Test-Train data"
   ]
  },
  {
   "cell_type": "code",
   "execution_count": 111,
   "metadata": {},
   "outputs": [],
   "source": [
    "X_train,X_test,y_train,y_test = train_test_split(X, y, test_size=0.2, random_state=123)"
   ]
  },
  {
   "cell_type": "markdown",
   "metadata": {},
   "source": [
    "## Cross-Validation"
   ]
  },
  {
   "cell_type": "markdown",
   "metadata": {},
   "source": [
    "### Using XGBRegressor"
   ]
  },
  {
   "cell_type": "code",
   "execution_count": 114,
   "metadata": {},
   "outputs": [
    {
     "data": {
      "text/html": [
       "<div>\n",
       "<style scoped>\n",
       "    .dataframe tbody tr th:only-of-type {\n",
       "        vertical-align: middle;\n",
       "    }\n",
       "\n",
       "    .dataframe tbody tr th {\n",
       "        vertical-align: top;\n",
       "    }\n",
       "\n",
       "    .dataframe thead th {\n",
       "        text-align: right;\n",
       "    }\n",
       "</style>\n",
       "<table border=\"1\" class=\"dataframe\">\n",
       "  <thead>\n",
       "    <tr style=\"text-align: right;\">\n",
       "      <th></th>\n",
       "      <th>train-rmse-mean</th>\n",
       "      <th>train-rmse-std</th>\n",
       "      <th>test-rmse-mean</th>\n",
       "      <th>test-rmse-std</th>\n",
       "    </tr>\n",
       "  </thead>\n",
       "  <tbody>\n",
       "    <tr>\n",
       "      <th>35</th>\n",
       "      <td>0.197358</td>\n",
       "      <td>0.005640</td>\n",
       "      <td>0.219324</td>\n",
       "      <td>0.052734</td>\n",
       "    </tr>\n",
       "    <tr>\n",
       "      <th>36</th>\n",
       "      <td>0.196708</td>\n",
       "      <td>0.005812</td>\n",
       "      <td>0.218742</td>\n",
       "      <td>0.052779</td>\n",
       "    </tr>\n",
       "    <tr>\n",
       "      <th>37</th>\n",
       "      <td>0.196558</td>\n",
       "      <td>0.005691</td>\n",
       "      <td>0.218598</td>\n",
       "      <td>0.052776</td>\n",
       "    </tr>\n",
       "    <tr>\n",
       "      <th>38</th>\n",
       "      <td>0.195968</td>\n",
       "      <td>0.005739</td>\n",
       "      <td>0.218083</td>\n",
       "      <td>0.052406</td>\n",
       "    </tr>\n",
       "    <tr>\n",
       "      <th>39</th>\n",
       "      <td>0.195459</td>\n",
       "      <td>0.005947</td>\n",
       "      <td>0.217621</td>\n",
       "      <td>0.052266</td>\n",
       "    </tr>\n",
       "  </tbody>\n",
       "</table>\n",
       "</div>"
      ],
      "text/plain": [
       "    train-rmse-mean  train-rmse-std  test-rmse-mean  test-rmse-std\n",
       "35         0.197358        0.005640        0.219324       0.052734\n",
       "36         0.196708        0.005812        0.218742       0.052779\n",
       "37         0.196558        0.005691        0.218598       0.052776\n",
       "38         0.195968        0.005739        0.218083       0.052406\n",
       "39         0.195459        0.005947        0.217621       0.052266"
      ]
     },
     "execution_count": 114,
     "metadata": {},
     "output_type": "execute_result"
    }
   ],
   "source": [
    "data_dmatrix = DMatrix(data=X_train,label=y_train)\n",
    "params = {\"objective\":\"reg:squarederror\",'colsample_bytree': 0.3,'learning_rate': 0.2,\n",
    "                'max_depth': 12, 'alpha': 10}\n",
    "\n",
    "cv_results = cv(dtrain=data_dmatrix, params=params, nfold=15,\n",
    "                    num_boost_round=40,early_stopping_rounds=10,metrics=\"rmse\", as_pandas=True, seed=123)\n",
    "cv_results.tail()"
   ]
  },
  {
   "cell_type": "markdown",
   "metadata": {},
   "source": [
    "### Using RandomForest"
   ]
  },
  {
   "cell_type": "code",
   "execution_count": 115,
   "metadata": {},
   "outputs": [
    {
     "name": "stdout",
     "output_type": "stream",
     "text": [
      "RMSE: 0.166263\n",
      "MAE: 0.121441\n"
     ]
    }
   ],
   "source": [
    "rmse_results= cross_val_score(rfModel, X_train, y_train, cv=5, scoring='neg_mean_squared_error')\n",
    "print(\"RMSE: %f\" % (np.sqrt(-rmse_results.mean())))\n",
    "mae_results= cross_val_score(rfModel, X_train, y_train, cv=5, scoring='neg_mean_absolute_error')\n",
    "print(\"MAE: %f\" % (-mae_results.mean()))"
   ]
  },
  {
   "cell_type": "markdown",
   "metadata": {},
   "source": [
    "# Predict"
   ]
  },
  {
   "cell_type": "markdown",
   "metadata": {},
   "source": [
    "## Using XGBoostRegressor"
   ]
  },
  {
   "cell_type": "code",
   "execution_count": 131,
   "metadata": {},
   "outputs": [
    {
     "name": "stdout",
     "output_type": "stream",
     "text": [
      "[20:50:17] WARNING: C:/Jenkins/workspace/xgboost-win64_release_0.90/src/objective/regression_obj.cu:152: reg:linear is now deprecated in favor of reg:squarederror.\n"
     ]
    },
    {
     "data": {
      "text/html": [
       "<div>\n",
       "<style scoped>\n",
       "    .dataframe tbody tr th:only-of-type {\n",
       "        vertical-align: middle;\n",
       "    }\n",
       "\n",
       "    .dataframe tbody tr th {\n",
       "        vertical-align: top;\n",
       "    }\n",
       "\n",
       "    .dataframe thead th {\n",
       "        text-align: right;\n",
       "    }\n",
       "</style>\n",
       "<table border=\"1\" class=\"dataframe\">\n",
       "  <thead>\n",
       "    <tr style=\"text-align: right;\">\n",
       "      <th></th>\n",
       "      <th>y_actual</th>\n",
       "      <th>y_pred</th>\n",
       "    </tr>\n",
       "  </thead>\n",
       "  <tbody>\n",
       "    <tr>\n",
       "      <th>229</th>\n",
       "      <td>3.449988</td>\n",
       "      <td>3.412594</td>\n",
       "    </tr>\n",
       "    <tr>\n",
       "      <th>159</th>\n",
       "      <td>3.148453</td>\n",
       "      <td>3.209206</td>\n",
       "    </tr>\n",
       "    <tr>\n",
       "      <th>196</th>\n",
       "      <td>3.505557</td>\n",
       "      <td>3.594550</td>\n",
       "    </tr>\n",
       "    <tr>\n",
       "      <th>345</th>\n",
       "      <td>2.862201</td>\n",
       "      <td>3.009740</td>\n",
       "    </tr>\n",
       "    <tr>\n",
       "      <th>467</th>\n",
       "      <td>2.949688</td>\n",
       "      <td>2.739445</td>\n",
       "    </tr>\n",
       "  </tbody>\n",
       "</table>\n",
       "</div>"
      ],
      "text/plain": [
       "     y_actual    y_pred\n",
       "229  3.449988  3.412594\n",
       "159  3.148453  3.209206\n",
       "196  3.505557  3.594550\n",
       "345  2.862201  3.009740\n",
       "467  2.949688  2.739445"
      ]
     },
     "execution_count": 131,
     "metadata": {},
     "output_type": "execute_result"
    }
   ],
   "source": [
    "XGBModel = XGBRegressor(n_estimators=97, learning_rate=0.1, subsample=1, random_state = 1234)\n",
    "XGBModel.fit(X_train, y_train)\n",
    "XGBPred = XGBModel.predict(X_test)\n",
    "comp_data = pd.DataFrame({'y_actual': y_test, 'y_pred': XGBPred})\n",
    "comp_data.tail()"
   ]
  },
  {
   "cell_type": "code",
   "execution_count": 132,
   "metadata": {},
   "outputs": [
    {
     "name": "stdout",
     "output_type": "stream",
     "text": [
      "RMSE: 0.144245\n",
      "MAE: 0.101080\n",
      "R Squared: 0.858141\n",
      "Adj. R Squared: 0.854392\n"
     ]
    }
   ],
   "source": [
    "rmse = np.sqrt(mean_squared_error(y_test, XGBPred))\n",
    "mae = mean_absolute_error(y_test, XGBPred)\n",
    "r2 = r2_score(y_test, XGBPred)\n",
    "adj_r2 = 1-(1-r2)*(X.shape[0]-1)/(X.shape[0]-X.shape[1]-1)\n",
    "print(\"RMSE: %f\" % (rmse))\n",
    "print(\"MAE: %f\" % (mae))\n",
    "print(\"R Squared: %f\" % (r2))\n",
    "print(\"Adj. R Squared: %f\" % (adj_r2))"
   ]
  },
  {
   "cell_type": "markdown",
   "metadata": {},
   "source": [
    "## Using RandomForest Regressor"
   ]
  },
  {
   "cell_type": "code",
   "execution_count": 135,
   "metadata": {},
   "outputs": [
    {
     "data": {
      "text/html": [
       "<div>\n",
       "<style scoped>\n",
       "    .dataframe tbody tr th:only-of-type {\n",
       "        vertical-align: middle;\n",
       "    }\n",
       "\n",
       "    .dataframe tbody tr th {\n",
       "        vertical-align: top;\n",
       "    }\n",
       "\n",
       "    .dataframe thead th {\n",
       "        text-align: right;\n",
       "    }\n",
       "</style>\n",
       "<table border=\"1\" class=\"dataframe\">\n",
       "  <thead>\n",
       "    <tr style=\"text-align: right;\">\n",
       "      <th></th>\n",
       "      <th>y_actual</th>\n",
       "      <th>y_pred</th>\n",
       "    </tr>\n",
       "  </thead>\n",
       "  <tbody>\n",
       "    <tr>\n",
       "      <th>229</th>\n",
       "      <td>3.449988</td>\n",
       "      <td>3.437072</td>\n",
       "    </tr>\n",
       "    <tr>\n",
       "      <th>159</th>\n",
       "      <td>3.148453</td>\n",
       "      <td>3.101000</td>\n",
       "    </tr>\n",
       "    <tr>\n",
       "      <th>196</th>\n",
       "      <td>3.505557</td>\n",
       "      <td>3.571401</td>\n",
       "    </tr>\n",
       "    <tr>\n",
       "      <th>345</th>\n",
       "      <td>2.862201</td>\n",
       "      <td>3.022051</td>\n",
       "    </tr>\n",
       "    <tr>\n",
       "      <th>467</th>\n",
       "      <td>2.949688</td>\n",
       "      <td>2.708255</td>\n",
       "    </tr>\n",
       "  </tbody>\n",
       "</table>\n",
       "</div>"
      ],
      "text/plain": [
       "     y_actual    y_pred\n",
       "229  3.449988  3.437072\n",
       "159  3.148453  3.101000\n",
       "196  3.505557  3.571401\n",
       "345  2.862201  3.022051\n",
       "467  2.949688  2.708255"
      ]
     },
     "execution_count": 135,
     "metadata": {},
     "output_type": "execute_result"
    }
   ],
   "source": [
    "rfModel = RandomForestRegressor(n_estimators=97, min_samples_split=15, min_samples_leaf = 4, max_features=4, max_depth=70, bootstrap=True, random_state=1234)\n",
    "rfModel.fit(X_train,y_train)\n",
    "rfPred = rfModel.predict(X_test)\n",
    "comp_data1 = pd.DataFrame({'y_actual': y_test, 'y_pred': rfPred})\n",
    "comp_data1.tail()"
   ]
  },
  {
   "cell_type": "code",
   "execution_count": 136,
   "metadata": {},
   "outputs": [
    {
     "name": "stdout",
     "output_type": "stream",
     "text": [
      "RMSE: 0.166099\n",
      "MAE: 0.109792\n",
      "R Squared: 0.811901\n",
      "Adj. R Squared: 0.806930\n"
     ]
    }
   ],
   "source": [
    "rmse_rf = np.sqrt(mean_squared_error(y_test, rfPred))\n",
    "mae_rf = mean_absolute_error(y_test, rfPred)\n",
    "r2_rf = r2_score(y_test, rfPred)\n",
    "adj_r2_rf = 1-(1-r2_rf)*(X.shape[0]-1)/(X.shape[0]-X.shape[1]-1)\n",
    "print(\"RMSE: %f\" % (rmse_rf))\n",
    "print(\"MAE: %f\" % (mae_rf))\n",
    "print(\"R Squared: %f\" % (r2_rf))\n",
    "print(\"Adj. R Squared: %f\" % (adj_r2_rf))"
   ]
  },
  {
   "cell_type": "markdown",
   "metadata": {},
   "source": [
    "### Using RandomSearch CV with RandomForestRegressor"
   ]
  },
  {
   "cell_type": "code",
   "execution_count": 140,
   "metadata": {},
   "outputs": [
    {
     "name": "stdout",
     "output_type": "stream",
     "text": [
      "{'n_estimators': [10, 11, 12, 13, 14, 15, 16, 17, 18, 19, 20, 21, 22, 23, 24, 25, 26, 27, 28, 29, 30, 31, 32, 33, 34, 35, 36, 37, 38, 39, 40, 41, 42, 43, 44, 45, 46, 47, 48, 49, 50, 51, 52, 53, 54, 55, 56, 57, 58, 59, 60, 61, 62, 63, 64, 65, 66, 67, 68, 69, 70, 71, 72, 73, 74, 75, 76, 77, 78, 79, 80, 81, 82, 83, 84, 85, 86, 87, 88, 89, 90, 91, 92, 93, 94, 95, 96, 97, 98, 99, 100], 'max_features': ['auto', 'sqrt'], 'max_depth': [10, 20, 30, 40, 50, 60, 70, 80, 90, 100, 110, None], 'min_samples_split': [2, 5, 10], 'min_samples_leaf': [1, 2, 4], 'bootstrap': [True, False]}\n"
     ]
    }
   ],
   "source": [
    "from sklearn.model_selection import RandomizedSearchCV\n",
    "# Number of trees in random forest\n",
    "n_estimators = [int(x) for x in np.linspace(10, 100, num = 91)]\n",
    "# Number of features to consider at every split\n",
    "max_features = ['auto', 'sqrt']\n",
    "# Maximum number of levels in tree\n",
    "max_depth = [int(x) for x in np.linspace(10, 110, num = 11)]\n",
    "max_depth.append(None)\n",
    "# Minimum number of samples required to split a node\n",
    "min_samples_split = [2, 5, 10]\n",
    "# Minimum number of samples required at each leaf node\n",
    "min_samples_leaf = [1, 2, 4]\n",
    "# Method of selecting samples for training each tree\n",
    "bootstrap = [True, False]\n",
    "# Create the random grid\n",
    "random_grid = {'n_estimators': n_estimators,\n",
    "               'max_features': max_features,\n",
    "               'max_depth': max_depth,\n",
    "               'min_samples_split': min_samples_split,\n",
    "               'min_samples_leaf': min_samples_leaf,\n",
    "               'bootstrap': bootstrap}\n",
    "print(random_grid)"
   ]
  },
  {
   "cell_type": "code",
   "execution_count": 141,
   "metadata": {},
   "outputs": [
    {
     "name": "stdout",
     "output_type": "stream",
     "text": [
      "Fitting 3 folds for each of 100 candidates, totalling 300 fits\n"
     ]
    },
    {
     "name": "stderr",
     "output_type": "stream",
     "text": [
      "[Parallel(n_jobs=-1)]: Using backend LokyBackend with 8 concurrent workers.\n",
      "[Parallel(n_jobs=-1)]: Done  25 tasks      | elapsed:    0.6s\n",
      "[Parallel(n_jobs=-1)]: Done 146 tasks      | elapsed:    4.4s\n",
      "[Parallel(n_jobs=-1)]: Done 300 out of 300 | elapsed:    8.8s finished\n"
     ]
    },
    {
     "data": {
      "text/plain": [
       "RandomizedSearchCV(cv=3, error_score='raise-deprecating',\n",
       "                   estimator=RandomForestRegressor(bootstrap=True,\n",
       "                                                   criterion='mse',\n",
       "                                                   max_depth=None,\n",
       "                                                   max_features='auto',\n",
       "                                                   max_leaf_nodes=None,\n",
       "                                                   min_impurity_decrease=0.0,\n",
       "                                                   min_impurity_split=None,\n",
       "                                                   min_samples_leaf=1,\n",
       "                                                   min_samples_split=2,\n",
       "                                                   min_weight_fraction_leaf=0.0,\n",
       "                                                   n_estimators='warn',\n",
       "                                                   n_jobs=None, oob_score=False,\n",
       "                                                   random_sta...\n",
       "                                        'max_depth': [10, 20, 30, 40, 50, 60,\n",
       "                                                      70, 80, 90, 100, 110,\n",
       "                                                      None],\n",
       "                                        'max_features': ['auto', 'sqrt'],\n",
       "                                        'min_samples_leaf': [1, 2, 4],\n",
       "                                        'min_samples_split': [2, 5, 10],\n",
       "                                        'n_estimators': [10, 11, 12, 13, 14, 15,\n",
       "                                                         16, 17, 18, 19, 20, 21,\n",
       "                                                         22, 23, 24, 25, 26, 27,\n",
       "                                                         28, 29, 30, 31, 32, 33,\n",
       "                                                         34, 35, 36, 37, 38, 39, ...]},\n",
       "                   pre_dispatch='2*n_jobs', random_state=42, refit=True,\n",
       "                   return_train_score=False, scoring=None, verbose=2)"
      ]
     },
     "execution_count": 141,
     "metadata": {},
     "output_type": "execute_result"
    }
   ],
   "source": [
    "# Use the random grid to search for best hyperparameters\n",
    "# First create the base model to tune\n",
    "rf = RandomForestRegressor()\n",
    "# Random search of parameters, using 3 fold cross validation, \n",
    "# search across 100 different combinations, and use all available cores\n",
    "rf_random = RandomizedSearchCV(estimator = rf, param_distributions = random_grid, n_iter = 100, cv = 3, verbose=2, random_state=42, n_jobs = -1)\n",
    "# Fit the random search model\n",
    "rf_random.fit(X_train, y_train)"
   ]
  },
  {
   "cell_type": "code",
   "execution_count": 142,
   "metadata": {},
   "outputs": [
    {
     "data": {
      "text/plain": [
       "{'n_estimators': 38,\n",
       " 'min_samples_split': 2,\n",
       " 'min_samples_leaf': 1,\n",
       " 'max_features': 'sqrt',\n",
       " 'max_depth': 60,\n",
       " 'bootstrap': False}"
      ]
     },
     "execution_count": 142,
     "metadata": {},
     "output_type": "execute_result"
    }
   ],
   "source": [
    "rf_random.best_params_"
   ]
  },
  {
   "cell_type": "markdown",
   "metadata": {},
   "source": [
    "### Executing RandomForest again with best params"
   ]
  },
  {
   "cell_type": "code",
   "execution_count": 143,
   "metadata": {},
   "outputs": [
    {
     "data": {
      "text/html": [
       "<div>\n",
       "<style scoped>\n",
       "    .dataframe tbody tr th:only-of-type {\n",
       "        vertical-align: middle;\n",
       "    }\n",
       "\n",
       "    .dataframe tbody tr th {\n",
       "        vertical-align: top;\n",
       "    }\n",
       "\n",
       "    .dataframe thead th {\n",
       "        text-align: right;\n",
       "    }\n",
       "</style>\n",
       "<table border=\"1\" class=\"dataframe\">\n",
       "  <thead>\n",
       "    <tr style=\"text-align: right;\">\n",
       "      <th></th>\n",
       "      <th>y_actual</th>\n",
       "      <th>y_pred</th>\n",
       "    </tr>\n",
       "  </thead>\n",
       "  <tbody>\n",
       "    <tr>\n",
       "      <th>229</th>\n",
       "      <td>3.449988</td>\n",
       "      <td>3.504425</td>\n",
       "    </tr>\n",
       "    <tr>\n",
       "      <th>159</th>\n",
       "      <td>3.148453</td>\n",
       "      <td>3.144956</td>\n",
       "    </tr>\n",
       "    <tr>\n",
       "      <th>196</th>\n",
       "      <td>3.505557</td>\n",
       "      <td>3.628018</td>\n",
       "    </tr>\n",
       "    <tr>\n",
       "      <th>345</th>\n",
       "      <td>2.862201</td>\n",
       "      <td>3.004756</td>\n",
       "    </tr>\n",
       "    <tr>\n",
       "      <th>467</th>\n",
       "      <td>2.949688</td>\n",
       "      <td>2.662741</td>\n",
       "    </tr>\n",
       "  </tbody>\n",
       "</table>\n",
       "</div>"
      ],
      "text/plain": [
       "     y_actual    y_pred\n",
       "229  3.449988  3.504425\n",
       "159  3.148453  3.144956\n",
       "196  3.505557  3.628018\n",
       "345  2.862201  3.004756\n",
       "467  2.949688  2.662741"
      ]
     },
     "execution_count": 143,
     "metadata": {},
     "output_type": "execute_result"
    }
   ],
   "source": [
    "rfModel = RandomForestRegressor(n_estimators=38, min_samples_split=2, min_samples_leaf = 1, max_features='sqrt', max_depth=60, bootstrap=False, random_state=1234)\n",
    "rfModel.fit(X_train,y_train)\n",
    "rfPred = rfModel.predict(X_test)\n",
    "comp_data1 = pd.DataFrame({'y_actual': y_test, 'y_pred': rfPred})\n",
    "comp_data1.tail()"
   ]
  },
  {
   "cell_type": "code",
   "execution_count": 144,
   "metadata": {},
   "outputs": [
    {
     "name": "stdout",
     "output_type": "stream",
     "text": [
      "RMSE: 0.142657\n",
      "MAE: 0.094064\n",
      "R Squared: 0.861248\n",
      "Adj. R Squared: 0.857582\n"
     ]
    }
   ],
   "source": [
    "rmse_rf = np.sqrt(mean_squared_error(y_test, rfPred))\n",
    "mae_rf = mean_absolute_error(y_test, rfPred)\n",
    "r2_rf = r2_score(y_test, rfPred)\n",
    "adj_r2_rf = 1-(1-r2_rf)*(X.shape[0]-1)/(X.shape[0]-X.shape[1]-1)\n",
    "print(\"RMSE: %f\" % (rmse_rf))\n",
    "print(\"MAE: %f\" % (mae_rf))\n",
    "print(\"R Squared: %f\" % (r2_rf))\n",
    "print(\"Adj. R Squared: %f\" % (adj_r2_rf))"
   ]
  },
  {
   "cell_type": "markdown",
   "metadata": {},
   "source": [
    "## Using SVM"
   ]
  },
  {
   "cell_type": "code",
   "execution_count": null,
   "metadata": {},
   "outputs": [],
   "source": [
    "clf = svm.SVR(kernel='poly', C=1)\n",
    "clf.fit(X_train,y_train)\n",
    "svmpred = clf.predict(X_test)\n",
    "comp_data2 = pd.DataFrame({'y_actual': y_test, 'y_pred': svmpred})\n",
    "comp_data2.tail()"
   ]
  },
  {
   "cell_type": "code",
   "execution_count": null,
   "metadata": {},
   "outputs": [],
   "source": []
  }
 ],
 "metadata": {
  "kernelspec": {
   "display_name": "Python 3",
   "language": "python",
   "name": "python3"
  },
  "language_info": {
   "codemirror_mode": {
    "name": "ipython",
    "version": 3
   },
   "file_extension": ".py",
   "mimetype": "text/x-python",
   "name": "python",
   "nbconvert_exporter": "python",
   "pygments_lexer": "ipython3",
   "version": "3.7.1"
  }
 },
 "nbformat": 4,
 "nbformat_minor": 2
}
